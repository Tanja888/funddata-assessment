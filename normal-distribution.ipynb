{
 "cells": [
  {
   "cell_type": "markdown",
   "id": "e03dd046",
   "metadata": {},
   "source": [
    "## Normal Distribution\n",
    "***"
   ]
  },
  {
   "cell_type": "code",
   "execution_count": 1,
   "id": "ee299a33",
   "metadata": {},
   "outputs": [],
   "source": [
    "# define and explain main concepts\n",
    "# visual plots to explain concepts"
   ]
  },
  {
   "cell_type": "code",
   "execution_count": 15,
   "id": "5a785fe7",
   "metadata": {},
   "outputs": [],
   "source": [
    "import numpy as np\n",
    "import matplotlib.pyplot as plt"
   ]
  },
  {
   "cell_type": "code",
   "execution_count": 16,
   "id": "36e0a47f",
   "metadata": {},
   "outputs": [
    {
     "data": {
      "text/plain": [
       "-0.9494329239432657"
      ]
     },
     "execution_count": 16,
     "metadata": {},
     "output_type": "execute_result"
    }
   ],
   "source": [
    "np.random.normal()"
   ]
  },
  {
   "cell_type": "markdown",
   "id": "7dde7dfb",
   "metadata": {},
   "source": [
    "### Introduction"
   ]
  },
  {
   "cell_type": "markdown",
   "id": "5f51955d",
   "metadata": {},
   "source": [
    "### Definition"
   ]
  },
  {
   "cell_type": "markdown",
   "id": "9d9026cb",
   "metadata": {},
   "source": [
    "Normal distribution also known as Gaussian or bell-curved distribution is a type of continuous probability distribution for independent random variables [1](https://en.wikipedia.org/w/index.php?title=Normal_distribution&oldid=1129344614). \n",
    "Being a continuous distribution means that the values of variables can fall anywhere in its range unlike the discrete distribution with limited or finite outcomes. It is a symmetrically shaped distribution with most of its values gathering around the centre. It commonly occurs in nature and therefore represents a very important concept in inferential statistics for analysing and predicting properties of the population. "
   ]
  },
  {
   "cell_type": "markdown",
   "id": "b83b9a81",
   "metadata": {},
   "source": [
    "### Formula"
   ]
  },
  {
   "cell_type": "markdown",
   "id": "7721399f",
   "metadata": {},
   "source": [
    "Probability density function for a normal distribution is:"
   ]
  },
  {
   "cell_type": "markdown",
   "id": "5badb180",
   "metadata": {},
   "source": [
    "$$ p(x) = \\frac{1}{\\sqrt{2 \\pi \\sigma^2}} e^{-\\frac{(x-\\mu)^2}{2 \\sigma^2}}$$"
   ]
  },
  {
   "cell_type": "markdown",
   "id": "f6353d93",
   "metadata": {},
   "source": [
    "x - random variable  \n",
    "$\\pi$ = 3.14159  \n",
    "e = 2.71828  \n",
    "$\\mu$ - mean  \n",
    "$\\sigma$ - standard deviation  \n",
    "$\\sigma^2$ - variance"
   ]
  },
  {
   "cell_type": "markdown",
   "id": "d49a318a",
   "metadata": {},
   "source": [
    "### Parameters"
   ]
  },
  {
   "cell_type": "markdown",
   "id": "54777c7d",
   "metadata": {},
   "source": [
    "The main parameters of the normal distribution are the **mean** ($\\mu$) representing the average and the **standard deviation** ($\\sigma$) representing the measure of dispersion of data around the mean. The higher the standard deviation the wider the distribution. [2](https://en.wikipedia.org/wiki/Standard_deviation). While the $\\mu$ and $\\sigma$ are the parameters of the population, the standard deviation of a sample is represented with s and the mean with $\\overline x$. Standard deviation is a square root of the variance $\\sigma^2$.    "
   ]
  },
  {
   "cell_type": "code",
   "execution_count": null,
   "id": "3c5a5cf1",
   "metadata": {},
   "outputs": [],
   "source": [
    "\n",
    "### Plots"
   ]
  },
  {
   "cell_type": "code",
   "execution_count": null,
   "id": "be123894",
   "metadata": {},
   "outputs": [],
   "source": []
  },
  {
   "cell_type": "code",
   "execution_count": null,
   "id": "3f04bc4d",
   "metadata": {},
   "outputs": [],
   "source": []
  },
  {
   "cell_type": "code",
   "execution_count": null,
   "id": "9a34db25",
   "metadata": {},
   "outputs": [],
   "source": []
  },
  {
   "cell_type": "code",
   "execution_count": null,
   "id": "19528055",
   "metadata": {},
   "outputs": [],
   "source": []
  },
  {
   "cell_type": "code",
   "execution_count": null,
   "id": "e52d5378",
   "metadata": {},
   "outputs": [],
   "source": []
  },
  {
   "cell_type": "code",
   "execution_count": null,
   "id": "fa9cf7c0",
   "metadata": {},
   "outputs": [],
   "source": []
  },
  {
   "cell_type": "code",
   "execution_count": null,
   "id": "0a23d777",
   "metadata": {},
   "outputs": [],
   "source": []
  },
  {
   "cell_type": "code",
   "execution_count": null,
   "id": "e743c997",
   "metadata": {},
   "outputs": [],
   "source": []
  },
  {
   "cell_type": "markdown",
   "id": "d3f74a02",
   "metadata": {},
   "source": [
    "Explore:  \n",
    " * Measures of Central Tendency  \n",
    " * pdf and cdf  \n",
    " * parameters  \n",
    " * empirical rule  \n",
    " * maximum entropy distribution?\n",
    " * z-values\n",
    "\n"
   ]
  },
  {
   "cell_type": "code",
   "execution_count": null,
   "id": "9058f88f",
   "metadata": {},
   "outputs": [],
   "source": []
  },
  {
   "cell_type": "code",
   "execution_count": null,
   "id": "ea1847be",
   "metadata": {},
   "outputs": [],
   "source": []
  },
  {
   "cell_type": "code",
   "execution_count": 17,
   "id": "41c53584",
   "metadata": {},
   "outputs": [
    {
     "data": {
      "text/plain": [
       "3.141592653589793"
      ]
     },
     "execution_count": 17,
     "metadata": {},
     "output_type": "execute_result"
    }
   ],
   "source": [
    "np.pi"
   ]
  },
  {
   "cell_type": "code",
   "execution_count": 18,
   "id": "87547611",
   "metadata": {},
   "outputs": [
    {
     "data": {
      "text/plain": [
       "1.4142135623730951"
      ]
     },
     "execution_count": 18,
     "metadata": {},
     "output_type": "execute_result"
    }
   ],
   "source": [
    "np.sqrt(2)"
   ]
  },
  {
   "cell_type": "code",
   "execution_count": 19,
   "id": "baebc1fe",
   "metadata": {},
   "outputs": [
    {
     "data": {
      "text/plain": [
       "1.0"
      ]
     },
     "execution_count": 19,
     "metadata": {},
     "output_type": "execute_result"
    }
   ],
   "source": [
    "sigma = 1.0\n",
    "sigma"
   ]
  },
  {
   "cell_type": "code",
   "execution_count": 20,
   "id": "599ae34e",
   "metadata": {},
   "outputs": [
    {
     "data": {
      "text/plain": [
       "0.3989422804014327"
      ]
     },
     "execution_count": 20,
     "metadata": {},
     "output_type": "execute_result"
    }
   ],
   "source": [
    "1.0 / np.sqrt(2 * np.pi * sigma**2)"
   ]
  },
  {
   "cell_type": "code",
   "execution_count": 25,
   "id": "6fc9d973",
   "metadata": {},
   "outputs": [
    {
     "data": {
      "text/plain": [
       "[<matplotlib.lines.Line2D at 0x19c215d4d00>]"
      ]
     },
     "execution_count": 25,
     "metadata": {},
     "output_type": "execute_result"
    },
    {
     "data": {
      "image/png": "[encoded data removed]",
      "text/plain": [
       "<Figure size 640x480 with 1 Axes>"
      ]
     },
     "metadata": {},
     "output_type": "display_data"
    }
   ],
   "source": [
    "sigma_vals = np.linspace(1.0, 10.0, 1001)\n",
    "plt.plot(sigma_vals, 1.0/np.sqrt(2 * np.pi * sigma_vals **2))"
   ]
  },
  {
   "cell_type": "code",
   "execution_count": 26,
   "id": "198caea5",
   "metadata": {},
   "outputs": [
    {
     "data": {
      "text/plain": [
       "2.718281828459045"
      ]
     },
     "execution_count": 26,
     "metadata": {},
     "output_type": "execute_result"
    }
   ],
   "source": [
    "np.e"
   ]
  },
  {
   "cell_type": "code",
   "execution_count": null,
   "id": "de1f3b73",
   "metadata": {},
   "outputs": [],
   "source": [
    "$$e^{-\\frac{(x-\\mu)^2}{2 \\sigma^2}}$$"
   ]
  },
  {
   "cell_type": "code",
   "execution_count": 39,
   "id": "8d2200a9",
   "metadata": {},
   "outputs": [
    {
     "name": "stderr",
     "output_type": "stream",
     "text": [
      "No artists with labels found to put in legend.  Note that artists whose label start with an underscore are ignored when legend() is called with no argument.\n"
     ]
    },
    {
     "data": {
      "image/png": "[encoded data removed]",
      "text/plain": [
       "<Figure size 640x480 with 1 Axes>"
      ]
     },
     "metadata": {},
     "output_type": "display_data"
    }
   ],
   "source": [
    "x = np.linspace(-4.0, 4.0, 1000)\n",
    "# plt.plot(x, 1.0/np.exp(x), label=r'$1.0/e^x$')\n",
    "plt.plot(x, np.exp(-(x**2/2))); #label=r'$e^{-x^2}$')\n",
    "plt.legend();"
   ]
  },
  {
   "cell_type": "code",
   "execution_count": 42,
   "id": "5c5f5174",
   "metadata": {},
   "outputs": [
    {
     "name": "stderr",
     "output_type": "stream",
     "text": [
      "No artists with labels found to put in legend.  Note that artists whose label start with an underscore are ignored when legend() is called with no argument.\n"
     ]
    },
    {
     "data": {
      "image/png": "[encoded data removed]",
      "text/plain": [
       "<Figure size 640x480 with 1 Axes>"
      ]
     },
     "metadata": {},
     "output_type": "display_data"
    }
   ],
   "source": [
    "mu, sigma = 0.0, 1.0\n",
    "\n",
    "x = np.linspace(-4.0, 4.0, 1000)\n",
    "plt.plot(x, np.exp(-((x-mu)**2/(2 * sigma **2))));\n",
    "plt.legend();"
   ]
  },
  {
   "cell_type": "markdown",
   "id": "3264a55e",
   "metadata": {},
   "source": [
    "### References:\n",
    " * Mcloughlin, I., (2022). GitHub repository, https://github.com/ianmcloughlin/2223-S1-fund-data-analysis/blob/main/notebooks/04-outliers.ipynb  \n",
    " * Wikipedia contributors. (2022, December 24). Normal distribution. In Wikipedia, The Free Encyclopedia. Retreived December 26, 2022 from https://en.wikipedia.org/w/index.php?title=Normal_distribution&oldid=1129344614  \n",
    " * Wikipedia contributors. (2022, November 9). Standard deviation. In Wikipedia, The Free Encyclopedia. Retrieved December 27, 2022 from https://en.wikipedia.org/w/index.php?title=Standard_deviation&oldid=1120954441  "
   ]
  },
  {
   "cell_type": "code",
   "execution_count": null,
   "id": "a1182b21",
   "metadata": {},
   "outputs": [],
   "source": []
  }
 ],
 "metadata": {
  "kernelspec": {
   "display_name": "Python 3 (ipykernel)",
   "language": "python",
   "name": "python3"
  },
  "language_info": {
   "codemirror_mode": {
    "name": "ipython",
    "version": 3
   },
   "file_extension": ".py",
   "mimetype": "text/x-python",
   "name": "python",
   "nbconvert_exporter": "python",
   "pygments_lexer": "ipython3",
   "version": "3.9.13"
  },
  "toc": {
   "base_numbering": 1,
   "nav_menu": {},
   "number_sections": false,
   "sideBar": true,
   "skip_h1_title": false,
   "title_cell": "Table of Contents",
   "title_sidebar": "Contents",
   "toc_cell": false,
   "toc_position": {},
   "toc_section_display": true,
   "toc_window_display": false
  }
 },
 "nbformat": 4,
 "nbformat_minor": 5
}
