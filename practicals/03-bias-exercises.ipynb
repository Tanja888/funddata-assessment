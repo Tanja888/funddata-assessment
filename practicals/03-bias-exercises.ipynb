{
 "cells": [
  {
   "cell_type": "markdown",
   "id": "59602325",
   "metadata": {},
   "source": [
    "### Bias"
   ]
  },
  {
   "cell_type": "markdown",
   "id": "109b6c6b",
   "metadata": {},
   "source": [
    "**Exercise 1**  \n",
    "_Give three real-world examples of different types of cognitive bias._"
   ]
  },
  {
   "cell_type": "markdown",
   "id": "eb1fc957",
   "metadata": {},
   "source": [
    "**1. Google effect** \n",
    "\n",
    "Google effect – tendency to forget the information since they are easily found by searching them online. [[1]](https://thedecisionlab.com/biases/google-effect) \n",
    "Like this example of cognitive bias.   \n",
    "It is also known as digital amnesia. \n",
    "Relying on the outside source of information rather than even bother to think of or remember the information.  \n",
    "\n",
    "\n",
    "**2. Past experience**   \n",
    "If as an employee in a customer service environment on an average day you had one bad experience with a fussy customer, \n",
    "you might create biased opinion towards other customers. The behaviour towards customers after the fussy one might reflect in a harsher, \n",
    "unfriendly attitude since the previous experience produced the expectation that all the customers which followed would also be fussy. \n",
    "(The fact they were actually trying to be friendly and supportive went unnoticed until you realize it later).  \n",
    "\n",
    "\n",
    "**3. In-group, out-group bias**  \n",
    "An example of the in-group, out-group bias could be anything that falls under making a distinction between _us_ and _them_, be it class, race, territorial borders, sport team, other forms of identities, \n",
    "as long as _them_ are perceived as less desirable and worthy or different from the identity which is considered preferrable. \n"
   ]
  },
  {
   "cell_type": "code",
   "execution_count": null,
   "id": "42e54d63",
   "metadata": {},
   "outputs": [],
   "source": []
  },
  {
   "cell_type": "markdown",
   "id": "33a2a9cb",
   "metadata": {},
   "source": [
    "**Exercise 2**  \n",
    "Show that the difference between the standard deviation calculations is greatest for small sample sizes."
   ]
  },
  {
   "cell_type": "markdown",
   "id": "c06070ca",
   "metadata": {},
   "source": [
    "#### References:\n",
    "Mcloughlin, I., (2022). GitHub repository, https://github.com/ianmcloughlin/2223-S1-fund-data-analysis/blob/main/notebooks/03-bias.ipynb   \n",
    "The Decision Lab (2022). Why do we forget information that we just looked up? Retreived December 8, 2022 from https://thedecisionlab.com/biases/google-effect      "
   ]
  }
 ],
 "metadata": {
  "kernelspec": {
   "display_name": "Python 3 (ipykernel)",
   "language": "python",
   "name": "python3"
  },
  "language_info": {
   "codemirror_mode": {
    "name": "ipython",
    "version": 3
   },
   "file_extension": ".py",
   "mimetype": "text/x-python",
   "name": "python",
   "nbconvert_exporter": "python",
   "pygments_lexer": "ipython3",
   "version": "3.9.13"
  },
  "toc": {
   "base_numbering": 1,
   "nav_menu": {},
   "number_sections": false,
   "sideBar": true,
   "skip_h1_title": false,
   "title_cell": "Table of Contents",
   "title_sidebar": "Contents",
   "toc_cell": false,
   "toc_position": {},
   "toc_section_display": true,
   "toc_window_display": false
  }
 },
 "nbformat": 4,
 "nbformat_minor": 5
}
