{
 "cells": [
  {
   "cell_type": "markdown",
   "id": "59602325",
   "metadata": {},
   "source": [
    "### Bias"
   ]
  },
  {
   "cell_type": "markdown",
   "id": "109b6c6b",
   "metadata": {},
   "source": [
    "**Exercise 1**  \n",
    "_Give three real-world examples of different types of cognitive bias._"
   ]
  },
  {
   "cell_type": "markdown",
   "id": "eb1fc957",
   "metadata": {},
   "source": [
    "**1. Google effect** \n",
    "\n",
    "Google effect – tendency to forget the information since they are easily found by searching them online. [[1]](https://thedecisionlab.com/biases/google-effect) \n",
    "Like this example of cognitive bias.   \n",
    "It is also known as digital amnesia. \n",
    "Relying on the outside source of information rather than even bother to think of or remember the information.  \n",
    "\n",
    "\n",
    "**2. Past experience**   \n",
    "If as an employee in a customer service environment on an average day you had one bad experience with a fussy customer, \n",
    "you might create biased opinion towards other customers. The behaviour towards customers after the fussy one might reflect in a harsher, \n",
    "unfriendly attitude since the previous experience produced the expectation that all the customers which followed would also be fussy. \n",
    "(The fact they were actually trying to be friendly and supportive went unnoticed until you realize it later).  \n",
    "\n",
    "\n",
    "**3. In-group, out-group bias**  \n",
    "An example of the in-group, out-group bias could be anything that falls under making a distinction between _us_ and _them_, be it class, race, territorial borders, sport team, other forms of identities, \n",
    "as long as _them_ are perceived as less desirable and worthy or different from the identity which is considered preferrable. \n"
   ]
  },
  {
   "cell_type": "markdown",
   "id": "fa7bc533",
   "metadata": {},
   "source": [
    "_The code below was taken from I. Mcloughlin's GitHub repository and is part of the lectures for Fundamentals of Data Analysis at Atlantic Technological University. Reference at the bottom of the page._"
   ]
  },
  {
   "cell_type": "code",
   "execution_count": 86,
   "id": "993e0599",
   "metadata": {},
   "outputs": [],
   "source": [
    "import numpy as np\n",
    "import matplotlib.pyplot as plt"
   ]
  },
  {
   "cell_type": "code",
   "execution_count": 87,
   "id": "49e69851",
   "metadata": {},
   "outputs": [
    {
     "data": {
      "text/plain": [
       "array([ 9.54196791, 10.74125707,  9.81272709, 10.65218337,  8.21324466,\n",
       "       10.93491186,  9.93217721, 11.04646551,  7.88980554,  9.27968029,\n",
       "        8.42151443, 10.99711702,  8.93457298,  9.35621396, 10.18269128,\n",
       "       10.00804603,  9.43724469, 11.96538366,  9.80739489, 10.53494937,\n",
       "       11.15415841,  8.43411101,  9.35361466,  9.82930895, 11.06314228,\n",
       "        9.72357519, 10.33348146, 10.47336814,  9.29643577, 11.65963356,\n",
       "       10.26335041,  8.03636188, 11.54094211, 11.06722661,  8.0517183 ,\n",
       "       10.3248103 , 10.32778106, 10.65309744, 10.31466484, 10.63782478,\n",
       "       10.58121249,  9.83058344,  9.90715454, 11.17597569,  9.63088458,\n",
       "        9.49397069,  8.93259436, 11.23262882,  9.68852201, 10.5329905 ,\n",
       "        9.93155771,  9.72373293,  8.64979918,  9.61776133,  9.32634885,\n",
       "        9.63260876, 10.30237855,  9.48017233, 10.29028107,  9.8454543 ,\n",
       "        7.93098964,  9.73214765, 10.08668068, 10.05967771,  8.7683897 ,\n",
       "        9.86828983, 10.28315283, 10.86154443, 10.42656082, 10.41955844,\n",
       "        9.30073056,  9.08282981, 10.81181816, 10.02476974, 11.14177558,\n",
       "        9.32454842,  8.73274358, 10.68491461, 10.27587712, 10.07658134,\n",
       "        9.49009695,  8.90892195, 10.19970584,  9.63286151, 11.27913674,\n",
       "        8.89411048,  9.22308656, 10.89997217,  9.08759616, 10.07346194,\n",
       "       10.36322066, 10.21827087, 10.11703152,  9.83808856,  8.47545077,\n",
       "       12.36097697,  9.98434008, 10.95134321, 10.63869936,  9.55951426,\n",
       "        8.91528934, 12.00005659,  9.86426041,  8.86854797,  9.98969622,\n",
       "        9.82624319, 11.89927325,  9.62301474, 10.51767181,  8.2047959 ,\n",
       "       10.02875327,  9.47912271,  9.02695326, 10.91154865, 10.82752623,\n",
       "       10.22477213, 10.31298249,  9.44984215,  9.92768445, 10.52946057,\n",
       "       10.61308387,  9.74435045, 10.15674622, 10.9356549 ,  9.50211791,\n",
       "       10.37861616, 10.54464527, 10.56683234,  8.7255771 ,  8.88682692,\n",
       "        9.78218499,  9.72618175, 10.55881927, 10.39340885, 10.48704906,\n",
       "       10.48776716,  9.12314057,  7.21255705, 10.14097311,  8.20897604,\n",
       "       10.04217813,  8.34496754,  9.32989072,  9.93092574,  9.79149748,\n",
       "       11.10532251, 10.70629056, 10.46615311,  9.67252448, 11.12190207,\n",
       "        8.84038777,  9.64412637,  9.80339102,  9.69768338, 10.58914192,\n",
       "        9.31534901, 11.46765287,  9.31161619,  9.42774735, 10.84661117,\n",
       "       10.17515001, 10.46220739, 10.11084155, 11.84044409, 10.02834334,\n",
       "        9.3745575 ,  9.53816491,  9.25422169, 11.33202626,  8.51347461,\n",
       "        9.79157678, 11.30627848, 10.314264  ,  9.94839699,  9.29370665,\n",
       "       10.34857097,  8.55508231, 11.06623355,  9.19737193,  8.70342279,\n",
       "       11.53372669,  9.56018371, 10.29702974, 10.45226069, 12.16034728,\n",
       "       10.57543666,  8.62857467,  9.05611652, 10.05134748,  9.49564792,\n",
       "       10.74825168, 10.7305269 ,  9.73755925, 10.1060432 ,  9.0708607 ,\n",
       "        8.21429652, 10.20965525, 10.32008676,  7.50938628,  8.09135701,\n",
       "        9.01237332, 10.26000456,  9.91606895, 11.24307609,  8.79141542,\n",
       "       11.74406305, 10.83578068, 11.57362897, 11.87091417,  8.64303569,\n",
       "       10.97881554,  9.46329811,  8.47774524,  9.48484146,  9.98569915,\n",
       "       10.07070134,  9.27496511,  9.55638282, 10.62266649, 11.02105317,\n",
       "        9.33600874,  9.25817552,  8.19723197, 10.15063334, 11.61764598,\n",
       "        8.43365406, 10.75025258,  9.437995  , 11.60770673, 11.12015214,\n",
       "        8.51581348, 11.29217755, 11.64757453,  9.99478226,  9.35670046,\n",
       "        8.98168766,  9.49537888,  8.6238772 ,  7.89163889,  9.43900745,\n",
       "        9.40376498,  8.97643573,  8.74496001,  9.38812949,  9.80980925,\n",
       "       12.80144942, 10.5533268 ,  9.93252911,  9.93662763, 10.05479034,\n",
       "       11.13895827, 10.2196674 ,  9.53333993,  9.3253217 , 11.2817036 ,\n",
       "        8.31002026, 10.42355886, 10.61046462,  9.81976726,  9.66699836,\n",
       "       12.2600011 , 10.46665748,  9.45360879,  9.1757424 ,  9.51830722,\n",
       "       10.07819986,  9.40969915,  9.16718407, 11.54479881,  9.90693412,\n",
       "        7.05701875,  8.57815987,  8.65202205, 10.18306491,  8.40725459,\n",
       "       10.61286156,  9.84974921,  8.73570498, 11.34600215,  8.42546625,\n",
       "        9.6015624 , 10.18242563, 10.80822571, 12.09574303, 11.50275032,\n",
       "        9.71019052,  9.69286005, 10.81370685, 10.5302584 , 11.10686367,\n",
       "        8.82370543, 11.05994211,  9.14124923, 10.94890201, 11.26058524,\n",
       "        9.19647226,  9.77498387, 10.92428964, 10.08371678, 11.28745806,\n",
       "       10.03561665, 10.42420924, 11.53093006, 10.43386827, 10.45517986,\n",
       "       10.50542151,  9.11504112,  8.78822769,  8.95174634, 10.32534686,\n",
       "       11.07646316,  9.3988868 , 10.98187106,  9.36858038,  9.97487234,\n",
       "        9.57077628, 10.2269949 ,  8.47486694,  9.74199367,  9.16556472,\n",
       "        8.93031714, 10.66323138,  7.91619719,  9.84270766, 10.22473531,\n",
       "        8.78089608, 10.64130824, 12.22878919,  9.18401036, 11.88323093,\n",
       "        9.28218926,  9.57910678,  9.24565548, 10.52549747, 12.09007092,\n",
       "       10.26350309, 10.43646471, 10.26073266, 10.05373523,  9.31659362,\n",
       "        9.78759559,  8.96455729,  9.24216784,  9.92603538, 11.22190282,\n",
       "        8.97791719,  9.80616617, 10.00088604,  9.53801622,  8.65363929,\n",
       "        9.02072583, 10.00178687, 10.76844251, 10.67987839, 10.58546757,\n",
       "       10.66720887,  9.79132622,  9.65346199, 10.11989149,  8.67048244,\n",
       "       11.3625518 , 11.41093019, 10.19595567, 11.12022596,  9.14956286,\n",
       "       12.3369007 ,  7.88368613,  9.41208147, 10.74468337,  9.37289596,\n",
       "       11.75430339, 11.1013901 , 10.03273927, 10.22332426,  9.45097065,\n",
       "       10.04894466,  9.08352253, 10.29148382, 12.1251811 ,  9.03214722,\n",
       "        9.64329233, 10.783335  , 11.27713117,  9.51599357,  9.83693743,\n",
       "        9.05669243,  8.10375084, 10.96737877,  9.06927917,  8.74633486,\n",
       "       10.77662955,  9.83343677,  9.75767938, 12.15372982, 11.09836609,\n",
       "        9.50751619,  8.60738795,  9.22513596,  8.95053903, 10.57777755,\n",
       "       12.23969197, 10.31343821, 10.05767597,  9.76171989, 10.04343498,\n",
       "       10.90496285, 10.58293708, 10.6999512 ,  9.87093795, 10.62318381,\n",
       "       10.38588965,  8.22400053, 10.88473016,  8.26258524, 10.81671052,\n",
       "        9.76634826, 10.73470625,  9.33032277,  9.85990242,  9.50933395,\n",
       "        9.26828278, 10.94216425, 10.38465421,  8.50741146,  8.88320417,\n",
       "       10.79681667,  9.89190838,  9.03640243,  8.99874513,  9.53966614,\n",
       "        9.87235676,  9.9435992 , 10.7822316 ,  9.74459477,  9.00727882,\n",
       "       10.75290309,  9.21042058,  9.10249966, 11.53079019,  8.84511884,\n",
       "       10.24433979,  9.55236396,  9.60921697, 11.33931206,  9.15773692,\n",
       "        9.69769159,  9.63706043, 10.93111851, 10.25324117, 11.40993454,\n",
       "        9.00326233,  8.31772567, 10.60377841,  8.68078244,  9.61053917,\n",
       "        8.12524903, 10.50300469,  9.74619483, 10.00759608,  8.44255847,\n",
       "        9.61206274, 10.60266271,  9.62923217, 11.54281467, 11.23423288,\n",
       "       10.77027603, 12.16077015, 10.37858705,  9.27359757, 10.28842062,\n",
       "       10.24051164,  8.89454335,  8.06313243,  9.64039328, 10.35349516,\n",
       "        9.36597146,  7.73896807, 10.19310181, 11.84328352,  9.49344613,\n",
       "       10.54567367, 10.86460648, 10.97197167,  9.45440658, 10.69520776,\n",
       "        9.91853168,  9.40326211,  9.22797484, 10.68185574,  8.14959989,\n",
       "        9.88434839, 10.55318747,  9.27898332,  9.71605473, 10.43253017,\n",
       "       10.504577  , 11.05853365,  9.25251557, 11.02039203,  8.60468842,\n",
       "        9.43182294,  9.3294679 ,  9.51665259, 10.49564022, 10.87172543,\n",
       "        9.90507708,  9.1009553 ,  9.11316834,  9.77571396, 10.01879225,\n",
       "        9.57269794,  7.96356586,  8.98301132, 10.00926773, 10.90394134,\n",
       "       11.75894335,  8.89033189,  9.38015312, 10.59395236, 10.39509725,\n",
       "       10.23286972,  8.87789747,  9.81130294,  9.1919692 , 10.34859076,\n",
       "        9.36854585, 11.04671981, 10.57400365,  9.46104202, 10.81109918,\n",
       "       10.26789853,  8.79487   ,  9.62713032,  8.68570168,  8.52957827,\n",
       "       12.62137432, 10.83961883, 10.8756293 , 10.05833147,  9.88667457,\n",
       "       11.18776081,  9.58999893, 11.12367253, 10.11851858,  9.12300813,\n",
       "        9.87083942, 10.49757061, 10.12310838,  9.47206239,  9.94758748,\n",
       "        9.11953572,  9.94915361,  9.53811567, 10.53503925,  9.40816169,\n",
       "        8.86915319, 10.4862986 , 10.32192281, 11.51289697, 10.22248692,\n",
       "        8.90388427, 11.89183426, 10.94486466, 11.50683291,  8.96085547,\n",
       "        7.45024751, 10.27187899,  8.47831618, 10.50121933,  9.13091525,\n",
       "       12.13213686, 10.61161283,  8.30645971, 10.6479369 ,  8.67109385,\n",
       "       11.13512966, 11.18378652,  7.18752897, 11.24982213,  9.52701938,\n",
       "       10.16702501, 11.05620029, 10.07712367, 10.19343222, 10.0667017 ,\n",
       "       10.85922471, 10.10699182, 11.99063828, 11.03685479,  9.14939484,\n",
       "       10.41267621, 10.33296829,  8.44694885, 10.18319326,  8.02190303,\n",
       "       11.86391905, 11.00090356, 12.20704674, 10.44678314,  8.68849933,\n",
       "       10.04250607,  9.55884702, 10.48623905,  9.96400946, 11.45988192,\n",
       "       11.8372691 ,  9.20243515,  8.59509427, 10.1247601 , 11.84695132,\n",
       "        7.71246562, 11.72085789,  6.84477029,  9.28435511,  9.91445755,\n",
       "       10.10058074, 11.30565489, 11.03277035,  9.61436644,  9.89201953,\n",
       "       10.17907288,  9.08650335,  9.80994334, 11.11820914, 10.68685514,\n",
       "       10.04076367, 11.61184653,  9.79721854, 10.91013377,  9.93116073,\n",
       "       10.05346697,  9.80919334,  9.04856588,  8.39225281, 10.89614249,\n",
       "        9.97992239, 10.8856656 , 10.0998056 , 10.30166572, 10.0324346 ,\n",
       "       10.92789093,  7.7723257 , 10.79913348, 11.62237899, 11.0426674 ,\n",
       "       11.22556898,  9.62501034, 10.54244339,  9.70473928, 10.84201687,\n",
       "        9.04559318,  8.6555366 , 10.51379483,  8.07437409,  9.64967087,\n",
       "       13.14730994, 10.1798096 ,  9.51929749, 10.32422892, 10.18305991,\n",
       "        8.58381128, 10.55789732, 11.0440227 , 10.69764645,  8.85407883,\n",
       "       10.15690839,  9.20047186, 10.75361889, 10.99575034,  9.45636203,\n",
       "        9.88231292, 10.36395236,  9.18480341,  9.41766814,  9.24412958,\n",
       "        8.20657932, 11.2087271 ,  9.11676538,  9.26228589, 10.68400698,\n",
       "       11.01092797, 10.98867548,  9.32871405,  8.47833691, 10.58041446,\n",
       "       10.179707  , 11.02371487,  8.82299606,  9.63034965, 10.468996  ,\n",
       "        9.27604619, 10.92918815,  9.16096494, 10.30571755, 10.26935483,\n",
       "       10.56855765,  8.9991052 , 11.4577184 ,  9.61682054,  9.93415551,\n",
       "        8.55538338,  9.70900584, 10.86920719, 11.1463447 , 10.30693843,\n",
       "       10.66274272, 10.25719165, 10.38488555, 10.59600184,  8.45411482,\n",
       "        9.12033055, 10.4514346 , 10.6030178 , 10.08741943,  9.31492085,\n",
       "        9.30920147,  9.67201672,  9.90686728, 10.04156915, 10.69531878,\n",
       "       10.60973854,  9.76012653,  8.81275344,  9.0127332 ,  9.11599484,\n",
       "        9.25968466,  9.88416775, 10.64759294, 10.88733629,  9.95905548,\n",
       "       11.11989658, 10.49385059, 11.9093663 ,  9.63073344, 10.63382616,\n",
       "        9.41266223,  9.60856211,  8.63896665,  9.96943051, 11.57974941,\n",
       "        8.76362422, 12.20334752,  8.94787735, 10.52859772, 12.216095  ,\n",
       "       12.1474107 ,  9.62462133,  9.1419934 , 11.36139202, 10.95926157,\n",
       "       11.56975289, 10.79757459, 10.46233837,  9.49981783,  9.88712405,\n",
       "        9.82832886, 11.18729844, 10.56132728,  9.21024064,  9.78838719,\n",
       "        9.9029408 ,  9.07923949,  7.9626291 ,  9.43272972, 11.12441728,\n",
       "       10.68388305,  9.95417869,  9.23476543, 10.64273452,  9.91772276,\n",
       "        8.52697637, 10.32711362,  8.28269862, 10.84000638, 11.34111278,\n",
       "        8.42323002,  9.54485035, 11.03053318, 10.26865855, 11.35197887,\n",
       "       10.56750744, 10.59506398, 10.23839961,  9.84516432,  9.02425374,\n",
       "       10.08207206, 11.14508314, 10.13896102, 11.00997804,  8.88165844,\n",
       "        7.97287171,  8.97164233,  9.29596343,  8.41498013,  9.47025177,\n",
       "       10.2479026 ,  9.30536688,  8.78234615, 10.44867314,  9.4670563 ,\n",
       "       10.63462791,  9.5590635 , 10.09030708,  9.78987604, 10.3441521 ,\n",
       "        9.96222126,  9.36671614,  9.53943397,  9.51936988, 10.7202441 ,\n",
       "        9.59619961, 11.4660697 , 10.27108703,  8.15078926, 10.83479164,\n",
       "        8.89651754,  7.15432747,  9.1168513 ,  9.64286696,  9.64311586,\n",
       "        8.51190714, 11.31483156, 10.41991679,  9.76029938,  9.6637376 ,\n",
       "       10.19025286,  8.23519186, 10.32501045, 10.81799326,  8.42715027,\n",
       "        9.52170441,  8.15635847, 10.40389329, 10.37928591,  8.44667107,\n",
       "        7.97627597, 10.24175049,  9.68711093, 11.63455239,  9.92728734,\n",
       "        9.0649898 ,  8.74843083,  9.90461277, 11.58965816, 10.52087923,\n",
       "        8.93843091, 10.04039292,  8.46579478, 10.29787153, 10.93245406,\n",
       "       10.42934442,  9.76000075,  8.26788838, 11.2137118 ,  9.51537156,\n",
       "       10.13089249,  8.46622552,  9.98251061, 11.23837409,  9.76870888,\n",
       "       10.2308738 ,  8.67986839, 10.75807768,  9.31283265, 11.19970682,\n",
       "       10.60713962, 10.4739039 ,  8.79569438, 10.61191628,  8.4941924 ,\n",
       "       11.44156494,  9.81210833, 10.60835855,  8.97669297,  9.66035319,\n",
       "       12.23835663, 10.25817857,  8.52432831, 11.76871116, 10.37835169,\n",
       "       10.01913179,  9.72202391,  8.94161538,  7.54173149, 10.70210105,\n",
       "       11.05556923, 11.2243101 , 11.77236391, 10.79949259, 10.1544739 ,\n",
       "       11.13343898, 11.02512838, 11.71783128,  8.98453956, 10.10392319,\n",
       "       10.89734174, 10.44610509, 10.00385397, 10.18902767, 11.68778852,\n",
       "       10.87627251, 11.17735888,  9.62417925,  8.80444595, 10.87477469,\n",
       "       10.95463677, 10.33694444,  8.73072368,  8.83098177,  9.5168456 ,\n",
       "        8.53898936,  9.78594621, 10.18484839, 10.39421435,  9.8312671 ,\n",
       "        8.82384361,  9.76707044,  9.57135367,  8.89811781,  8.25613184,\n",
       "        8.69616753,  9.08855047,  8.53776915,  8.93438653, 10.77384905,\n",
       "       10.2545011 ,  8.99990197,  9.84113264,  9.66414564, 11.07680173,\n",
       "       10.42645017, 10.10302144,  9.2884781 , 11.52771459,  9.83913922,\n",
       "        9.7572216 ,  9.56038542, 10.76320132,  9.61963531,  8.73598622,\n",
       "       11.28786437,  9.33516182,  9.54961196,  9.82639697,  9.13227357,\n",
       "       10.03746909,  9.11219174,  9.81936875,  9.4996293 ,  9.33536636,\n",
       "        9.34670028,  9.47971077,  8.93593087, 12.65293949,  9.85739365,\n",
       "       11.42563813, 10.43137091,  9.99730607,  9.21389179, 12.10065922,\n",
       "        9.43068384,  9.72722362,  9.52282336, 11.1020529 ,  9.50966761,\n",
       "        9.44137273, 10.03465747, 10.14093272, 10.5489002 ,  9.46280688,\n",
       "       10.52152054,  8.78280165, 10.97943683, 11.44210769, 10.15121401,\n",
       "       10.04914256,  9.31875048,  9.24629838, 11.12133889,  8.92423091,\n",
       "       11.78858244, 11.28745361, 10.66744956, 10.28620096,  8.47383136,\n",
       "       10.89180906,  9.33181684,  9.85477922, 12.36019571,  9.52021887,\n",
       "        8.18263853,  9.8259032 ,  9.14064933, 10.51017193, 11.02519774,\n",
       "        9.43313369,  8.90671558,  9.37721852, 11.39672127,  9.25253897])"
      ]
     },
     "execution_count": 87,
     "metadata": {},
     "output_type": "execute_result"
    }
   ],
   "source": [
    "# Generate a sample of values - note we can see the population standard deviation.\n",
    "x = np.random.normal(10.0, 1.0, 1000)\n",
    "x"
   ]
  },
  {
   "cell_type": "code",
   "execution_count": 88,
   "id": "63a215be",
   "metadata": {},
   "outputs": [
    {
     "data": {
      "text/plain": [
       "array([[-2.17175757, -3.29771294,  1.2983416 , -2.22701108, -0.79095025],\n",
       "       [ 1.51217702, -2.06900177, -0.51995448,  1.41298847,  0.30058753],\n",
       "       [-1.05984523,  0.65433095,  2.63035554, -2.3112135 , -0.57907825],\n",
       "       ...,\n",
       "       [ 0.69149738, -0.48016954,  0.31999667, -0.0842045 , -1.26307371],\n",
       "       [-1.66877264,  1.17271045, -4.15979037, -3.05461631,  1.20434371],\n",
       "       [-3.0484687 , -4.19790316, -4.65330353, -2.91251035,  2.60411778]])"
      ]
     },
     "execution_count": 88,
     "metadata": {},
     "output_type": "execute_result"
    }
   ],
   "source": [
    "# Create 100000 samples of size 5 - standard deviation is 2.0.\n",
    "samples = np.random.normal(0.0, 2.0, (100000, 5))\n",
    "samples"
   ]
  },
  {
   "cell_type": "code",
   "execution_count": 89,
   "id": "9beb3665",
   "metadata": {},
   "outputs": [
    {
     "data": {
      "text/plain": [
       "array([1.582764  , 1.32993139, 1.67682234, ..., 0.67533973, 2.18078424,\n",
       "       2.60866048])"
      ]
     },
     "execution_count": 89,
     "metadata": {},
     "output_type": "execute_result"
    }
   ],
   "source": [
    "# Calculate standard deviation without correction.\n",
    "stdevs = samples.std(axis=1)\n",
    "stdevs"
   ]
  },
  {
   "cell_type": "code",
   "execution_count": 90,
   "id": "a9e1b5c8",
   "metadata": {},
   "outputs": [
    {
     "data": {
      "image/png": "[encoded data removed]",
      "text/plain": [
       "<Figure size 1200x600 with 1 Axes>"
      ]
     },
     "metadata": {},
     "output_type": "display_data"
    }
   ],
   "source": [
    "# View a histogram - hopefully we can see the estimate is too small.\n",
    "fig, ax = plt.subplots(figsize=(12, 6))\n",
    "\n",
    "# Plot histogram.\n",
    "plt.hist(stdevs, bins=100)\n",
    "\n",
    "# Draw a vertical line where the actual standard deviation is.\n",
    "plt.axvline(x=2.0, color='red');"
   ]
  },
  {
   "cell_type": "code",
   "execution_count": 91,
   "id": "4ae41da1",
   "metadata": {},
   "outputs": [
    {
     "data": {
      "text/plain": [
       "0.9787475745463124"
      ]
     },
     "execution_count": 91,
     "metadata": {},
     "output_type": "execute_result"
    }
   ],
   "source": [
    "# Uncorrected variance.\n",
    "np.mean(np.square(x - np.mean(x)))"
   ]
  },
  {
   "cell_type": "code",
   "execution_count": 92,
   "id": "4a1f4780",
   "metadata": {},
   "outputs": [
    {
     "data": {
      "text/plain": [
       "0.9797273018481607"
      ]
     },
     "execution_count": 92,
     "metadata": {},
     "output_type": "execute_result"
    }
   ],
   "source": [
    "# Corrected variance.\n",
    "np.mean(np.square(x - np.mean(x))) * (len(x) / (len(x) - 1.0))"
   ]
  },
  {
   "cell_type": "markdown",
   "id": "33a2a9cb",
   "metadata": {},
   "source": [
    "**Exercise 2**  \n",
    "Show that the difference between the standard deviation calculations is greatest for small sample sizes."
   ]
  },
  {
   "cell_type": "code",
   "execution_count": 93,
   "id": "8d61d703",
   "metadata": {},
   "outputs": [
    {
     "data": {
      "text/plain": [
       "array([[ 0.53343465, -3.19786867,  1.49028805, ...,  0.03695325,\n",
       "        -0.68874331, -3.33929063],\n",
       "       [-3.76056357, -1.32100211,  2.18805686, ...,  0.35885178,\n",
       "         0.50325351,  2.49759494],\n",
       "       [ 1.82959785,  1.43263894,  0.6901202 , ..., -3.29924692,\n",
       "        -1.14764171, -1.32682313],\n",
       "       ...,\n",
       "       [ 2.59649941,  1.83457558,  0.55876475, ...,  3.16843157,\n",
       "        -1.29431863,  0.94047773],\n",
       "       [-1.52705712, -1.21136146, -1.28363453, ...,  2.82101205,\n",
       "        -0.53453772, -1.33896142],\n",
       "       [-0.8123799 ,  0.62175934,  0.44623017, ..., -0.13603221,\n",
       "         0.171206  ,  6.64449499]])"
      ]
     },
     "execution_count": 93,
     "metadata": {},
     "output_type": "execute_result"
    }
   ],
   "source": [
    "samples1 = np.random.normal(0.0, 2.0, (100000, 500))\n",
    "samples1"
   ]
  },
  {
   "cell_type": "code",
   "execution_count": 94,
   "id": "74cd858b",
   "metadata": {},
   "outputs": [
    {
     "data": {
      "text/plain": [
       "array([2.06223986, 2.03700161, 2.00135767, ..., 1.94816255, 2.06253022,\n",
       "       2.05894779])"
      ]
     },
     "execution_count": 94,
     "metadata": {},
     "output_type": "execute_result"
    }
   ],
   "source": [
    "stdevs1 = samples1.std(axis=1)\n",
    "stdevs1"
   ]
  },
  {
   "cell_type": "code",
   "execution_count": 95,
   "id": "4dba3e22",
   "metadata": {},
   "outputs": [
    {
     "data": {
      "image/png": "[encoded data removed]",
      "text/plain": [
       "<Figure size 1200x600 with 1 Axes>"
      ]
     },
     "metadata": {},
     "output_type": "display_data"
    }
   ],
   "source": [
    "fig, ax = plt.subplots(figsize=(12, 6))\n",
    "plt.hist(stdevs1, bins=100)\n",
    "plt.axvline(x=2.0, color='red');"
   ]
  },
  {
   "cell_type": "code",
   "execution_count": 104,
   "id": "14168568",
   "metadata": {},
   "outputs": [
    {
     "data": {
      "text/plain": [
       "array([ 9.71966909, 10.49131717,  8.60732873, 10.7204709 , 10.36751246,\n",
       "        9.34275052,  8.21577717, 10.19212176,  9.20098092, 10.03504775,\n",
       "        9.51906525, 10.13612833, 10.72337681,  8.9435258 , 10.49546258,\n",
       "        9.7204838 , 10.18062029,  9.94601675, 10.48738143, 11.35337302,\n",
       "       11.32912733,  8.8702934 , 10.35816117, 10.29386783,  7.56439728,\n",
       "       10.45588641, 10.96170318,  9.77831739,  9.28229724, 11.0060804 ,\n",
       "       10.54060331, 10.93402556,  7.67593281,  9.66057034, 10.841754  ,\n",
       "        9.53652026,  9.67091918,  7.68687466,  8.76097671,  8.96719392,\n",
       "       11.07637643, 10.64638672,  9.93410309, 11.01781455,  8.25134904,\n",
       "        8.99774497, 10.65628183, 10.07625872, 10.71736393, 10.54957796,\n",
       "        8.66468645,  8.98173396, 10.89405911,  8.91613772, 11.0264884 ,\n",
       "       10.78490782, 10.15277894,  7.91948418, 10.20005115, 10.94009215,\n",
       "        9.39599296, 11.06289574, 10.89593048, 11.12996218, 11.05860693,\n",
       "       10.26831996,  9.83612435,  9.32454412,  7.64512471, 10.06534314,\n",
       "       10.12931534, 10.99376117, 10.1717132 , 10.32142183, 10.77744826,\n",
       "       10.38259563, 10.87935237,  9.56187213, 10.11946518, 10.28726595,\n",
       "        8.61654473,  8.86603457, 10.01914119,  9.28279965, 11.45746004,\n",
       "       10.7570762 ,  9.00480352,  9.57926838,  9.04471354,  9.03471751,\n",
       "        9.67193314, 11.6567732 , 11.29316941, 10.09583705, 10.09945001,\n",
       "        9.56656438,  9.43963071, 11.22851981,  8.56353953, 11.01279375,\n",
       "        9.14894505, 10.21434799, 10.04098375,  8.5644988 , 10.84660586,\n",
       "       10.10927543,  9.04768747, 10.09044857, 11.57673612,  8.53047809,\n",
       "       10.82167658,  9.10279728, 10.70578367,  9.56632873,  7.52353078,\n",
       "       10.12755326,  8.08200148, 10.98037981, 11.06183267,  9.15740292,\n",
       "       10.65720496, 10.96947696,  9.5128819 , 10.43404505,  8.59791939,\n",
       "       10.00258122, 10.27981724, 11.47255387, 10.07341782, 11.81400476,\n",
       "       10.4052364 , 11.567371  , 11.01770534,  9.8896621 , 10.15833204,\n",
       "       10.33554248,  9.50000404,  8.58048962, 10.15175522,  9.1130502 ,\n",
       "       11.53019373, 11.31044638, 10.42118539, 10.24829952,  9.56132982,\n",
       "       11.39280835, 10.92017334,  9.26188225, 10.15037926, 10.2227622 ,\n",
       "        9.42887959,  9.97984236, 10.51609246,  9.63008166,  8.46160622,\n",
       "        9.1521321 , 11.46211073, 10.3972455 ,  9.14179703, 11.43942836,\n",
       "        9.59959218,  9.68441273, 10.73837527, 10.8615321 ,  8.74818947,\n",
       "       12.93421173, 11.44492902, 10.43273781, 10.04064187, 10.13236576,\n",
       "        9.80651712,  7.7922134 , 10.97595566, 10.30380924, 10.48342255,\n",
       "       10.09222122, 11.35939492, 10.84950107,  9.55375906,  9.94390102,\n",
       "       10.90215887, 10.05865799,  9.450501  ,  9.39681819,  8.44309375,\n",
       "        8.07450727, 10.65666257, 10.98300675, 10.15794445, 10.63674953,\n",
       "       10.04378735, 10.0687074 ,  9.41075719,  8.55539459,  9.62828524,\n",
       "        8.2077909 ,  8.8616152 , 10.20062599, 10.75254634, 11.19570511])"
      ]
     },
     "execution_count": 104,
     "metadata": {},
     "output_type": "execute_result"
    }
   ],
   "source": [
    "# Small number\n",
    "x = np.random.normal(10.0, 1.0, 200)\n",
    "x"
   ]
  },
  {
   "cell_type": "code",
   "execution_count": 105,
   "id": "ade63af7",
   "metadata": {},
   "outputs": [
    {
     "data": {
      "text/plain": [
       "0.9501729514202872"
      ]
     },
     "execution_count": 105,
     "metadata": {},
     "output_type": "execute_result"
    }
   ],
   "source": [
    "a = np.mean(np.square(x-np.mean(x)))\n",
    "a"
   ]
  },
  {
   "cell_type": "code",
   "execution_count": 106,
   "id": "c13ad50a",
   "metadata": {},
   "outputs": [
    {
     "data": {
      "text/plain": [
       "0.9549476898696353"
      ]
     },
     "execution_count": 106,
     "metadata": {},
     "output_type": "execute_result"
    }
   ],
   "source": [
    "b = np.mean(np.square(x-np.mean(x))) * (len(x) / (len(x)-1.0))\n",
    "b"
   ]
  },
  {
   "cell_type": "code",
   "execution_count": 107,
   "id": "91c15154",
   "metadata": {},
   "outputs": [
    {
     "data": {
      "text/plain": [
       "0.004774738449348059"
      ]
     },
     "execution_count": 107,
     "metadata": {},
     "output_type": "execute_result"
    }
   ],
   "source": [
    "b-a"
   ]
  },
  {
   "cell_type": "code",
   "execution_count": 108,
   "id": "c2affe75",
   "metadata": {},
   "outputs": [
    {
     "data": {
      "text/plain": [
       "array([11.0452466 ,  9.57109831, 11.48381833, ...,  8.02913368,\n",
       "       10.80057152, 10.53686388])"
      ]
     },
     "execution_count": 108,
     "metadata": {},
     "output_type": "execute_result"
    }
   ],
   "source": [
    "# Big number\n",
    "x2 = np.random.normal(10.0, 1.0, 10000)\n",
    "x2"
   ]
  },
  {
   "cell_type": "code",
   "execution_count": 109,
   "id": "2e20634d",
   "metadata": {},
   "outputs": [
    {
     "data": {
      "text/plain": [
       "1.0069378756312797"
      ]
     },
     "execution_count": 109,
     "metadata": {},
     "output_type": "execute_result"
    }
   ],
   "source": [
    "c = np.mean(np.square(x2 - np.mean(x2)))\n",
    "c"
   ]
  },
  {
   "cell_type": "code",
   "execution_count": 110,
   "id": "d6b06ba5",
   "metadata": {},
   "outputs": [
    {
     "data": {
      "text/plain": [
       "1.0070385794892285"
      ]
     },
     "execution_count": 110,
     "metadata": {},
     "output_type": "execute_result"
    }
   ],
   "source": [
    "d = np.mean(np.square(x2 - np.mean(x2))) * (len(x2) / (len(x2) - 1.0))\n",
    "d"
   ]
  },
  {
   "cell_type": "code",
   "execution_count": 111,
   "id": "2eda3807",
   "metadata": {},
   "outputs": [
    {
     "data": {
      "text/plain": [
       "0.00010070385794880288"
      ]
     },
     "execution_count": 111,
     "metadata": {},
     "output_type": "execute_result"
    }
   ],
   "source": [
    "d-c"
   ]
  },
  {
   "cell_type": "markdown",
   "id": "2507bcba",
   "metadata": {},
   "source": [
    "#### References:\n",
    " * Mcloughlin, I., (2022). GitHub repository, https://github.com/ianmcloughlin/2223-S1-fund-data-analysis/blob/main/notebooks/03-bias.ipynb   \n",
    " * The Decision Lab (2022). Why do we forget information that we just looked up? Retreived December 8, 2022 from https://thedecisionlab.com/biases/google-effect      "
   ]
  }
 ],
 "metadata": {
  "kernelspec": {
   "display_name": "Python 3 (ipykernel)",
   "language": "python",
   "name": "python3"
  },
  "language_info": {
   "codemirror_mode": {
    "name": "ipython",
    "version": 3
   },
   "file_extension": ".py",
   "mimetype": "text/x-python",
   "name": "python",
   "nbconvert_exporter": "python",
   "pygments_lexer": "ipython3",
   "version": "3.9.13"
  },
  "toc": {
   "base_numbering": 1,
   "nav_menu": {},
   "number_sections": false,
   "sideBar": true,
   "skip_h1_title": false,
   "title_cell": "Table of Contents",
   "title_sidebar": "Contents",
   "toc_cell": false,
   "toc_position": {},
   "toc_section_display": true,
   "toc_window_display": false
  }
 },
 "nbformat": 4,
 "nbformat_minor": 5
}
