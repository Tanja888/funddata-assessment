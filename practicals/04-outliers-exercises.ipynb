{
 "cells": [
  {
   "cell_type": "markdown",
   "id": "d387ab3f",
   "metadata": {},
   "source": [
    "#### Outliers\n",
    "**Boxplots** "
   ]
  },
  {
   "cell_type": "markdown",
   "id": "bf5c182d",
   "metadata": {},
   "source": [
    "**Exercise 1**  \n",
    "_Create box plots on a single set of axes for all five experiments in the morley data set._"
   ]
  },
  {
   "cell_type": "code",
   "execution_count": 1,
   "id": "72ca72d1",
   "metadata": {},
   "outputs": [],
   "source": [
    "import numpy as np\n",
    "import matplotlib.pyplot as plt\n",
    "import scipy.stats as ss\n",
    "import pandas as pd"
   ]
  },
  {
   "cell_type": "code",
   "execution_count": 2,
   "id": "fbff2d62",
   "metadata": {},
   "outputs": [
    {
     "data": {
      "text/html": [
       "<div>\n",
       "<style scoped>\n",
       "    .dataframe tbody tr th:only-of-type {\n",
       "        vertical-align: middle;\n",
       "    }\n",
       "\n",
       "    .dataframe tbody tr th {\n",
       "        vertical-align: top;\n",
       "    }\n",
       "\n",
       "    .dataframe thead th {\n",
       "        text-align: right;\n",
       "    }\n",
       "</style>\n",
       "<table border=\"1\" class=\"dataframe\">\n",
       "  <thead>\n",
       "    <tr style=\"text-align: right;\">\n",
       "      <th></th>\n",
       "      <th>Unnamed: 0</th>\n",
       "      <th>Expt</th>\n",
       "      <th>Run</th>\n",
       "      <th>Speed</th>\n",
       "    </tr>\n",
       "  </thead>\n",
       "  <tbody>\n",
       "    <tr>\n",
       "      <th>0</th>\n",
       "      <td>1</td>\n",
       "      <td>1</td>\n",
       "      <td>1</td>\n",
       "      <td>850</td>\n",
       "    </tr>\n",
       "    <tr>\n",
       "      <th>1</th>\n",
       "      <td>2</td>\n",
       "      <td>1</td>\n",
       "      <td>2</td>\n",
       "      <td>740</td>\n",
       "    </tr>\n",
       "    <tr>\n",
       "      <th>2</th>\n",
       "      <td>3</td>\n",
       "      <td>1</td>\n",
       "      <td>3</td>\n",
       "      <td>900</td>\n",
       "    </tr>\n",
       "    <tr>\n",
       "      <th>3</th>\n",
       "      <td>4</td>\n",
       "      <td>1</td>\n",
       "      <td>4</td>\n",
       "      <td>1070</td>\n",
       "    </tr>\n",
       "    <tr>\n",
       "      <th>4</th>\n",
       "      <td>5</td>\n",
       "      <td>1</td>\n",
       "      <td>5</td>\n",
       "      <td>930</td>\n",
       "    </tr>\n",
       "    <tr>\n",
       "      <th>...</th>\n",
       "      <td>...</td>\n",
       "      <td>...</td>\n",
       "      <td>...</td>\n",
       "      <td>...</td>\n",
       "    </tr>\n",
       "    <tr>\n",
       "      <th>95</th>\n",
       "      <td>96</td>\n",
       "      <td>5</td>\n",
       "      <td>16</td>\n",
       "      <td>940</td>\n",
       "    </tr>\n",
       "    <tr>\n",
       "      <th>96</th>\n",
       "      <td>97</td>\n",
       "      <td>5</td>\n",
       "      <td>17</td>\n",
       "      <td>950</td>\n",
       "    </tr>\n",
       "    <tr>\n",
       "      <th>97</th>\n",
       "      <td>98</td>\n",
       "      <td>5</td>\n",
       "      <td>18</td>\n",
       "      <td>800</td>\n",
       "    </tr>\n",
       "    <tr>\n",
       "      <th>98</th>\n",
       "      <td>99</td>\n",
       "      <td>5</td>\n",
       "      <td>19</td>\n",
       "      <td>810</td>\n",
       "    </tr>\n",
       "    <tr>\n",
       "      <th>99</th>\n",
       "      <td>100</td>\n",
       "      <td>5</td>\n",
       "      <td>20</td>\n",
       "      <td>870</td>\n",
       "    </tr>\n",
       "  </tbody>\n",
       "</table>\n",
       "<p>100 rows × 4 columns</p>\n",
       "</div>"
      ],
      "text/plain": [
       "    Unnamed: 0  Expt  Run  Speed\n",
       "0            1     1    1    850\n",
       "1            2     1    2    740\n",
       "2            3     1    3    900\n",
       "3            4     1    4   1070\n",
       "4            5     1    5    930\n",
       "..         ...   ...  ...    ...\n",
       "95          96     5   16    940\n",
       "96          97     5   17    950\n",
       "97          98     5   18    800\n",
       "98          99     5   19    810\n",
       "99         100     5   20    870\n",
       "\n",
       "[100 rows x 4 columns]"
      ]
     },
     "execution_count": 2,
     "metadata": {},
     "output_type": "execute_result"
    }
   ],
   "source": [
    "morley = pd.read_csv('morley.csv')\n",
    "# or morley = np.genfromytxt('morley.csv')\n",
    "morley"
   ]
  },
  {
   "cell_type": "code",
   "execution_count": 3,
   "id": "50fec167",
   "metadata": {},
   "outputs": [
    {
     "data": {
      "text/plain": [
       "0      850\n",
       "1      740\n",
       "2      900\n",
       "3     1070\n",
       "4      930\n",
       "5      850\n",
       "6      950\n",
       "7      980\n",
       "8      980\n",
       "9      880\n",
       "10    1000\n",
       "11     980\n",
       "12     930\n",
       "13     650\n",
       "14     760\n",
       "15     810\n",
       "16    1000\n",
       "17    1000\n",
       "18     960\n",
       "19     960\n",
       "Name: Speed, dtype: int64"
      ]
     },
     "execution_count": 3,
     "metadata": {},
     "output_type": "execute_result"
    }
   ],
   "source": [
    "# slice the data frame by index position \n",
    "# this is for experiment 1\n",
    "exper1 = morley.iloc[0:20, 3]\n",
    "exper1"
   ]
  },
  {
   "cell_type": "code",
   "execution_count": 18,
   "id": "0d9087b4",
   "metadata": {},
   "outputs": [],
   "source": [
    "exper2 = morley.iloc[20:40, 3]"
   ]
  },
  {
   "cell_type": "code",
   "execution_count": 22,
   "id": "af55bad2",
   "metadata": {},
   "outputs": [
    {
     "data": {
      "image/png": "[encoded data removed]",
      "text/plain": [
       "<Figure size 640x480 with 1 Axes>"
      ]
     },
     "metadata": {},
     "output_type": "display_data"
    }
   ],
   "source": [
    "# Boxplots\n",
    "plt.boxplot(np.array([exper1, exper2]).T);"
   ]
  },
  {
   "cell_type": "code",
   "execution_count": 37,
   "id": "f0717ce8",
   "metadata": {},
   "outputs": [
    {
     "data": {
      "text/plain": [
       "array([[ 850,  960,  880,  890,  890],\n",
       "       [ 740,  940,  880,  810,  840],\n",
       "       [ 900,  960,  880,  810,  780],\n",
       "       [1070,  940,  860,  820,  810],\n",
       "       [ 930,  880,  720,  800,  760],\n",
       "       [ 850,  800,  720,  770,  810],\n",
       "       [ 950,  850,  620,  760,  790],\n",
       "       [ 980,  880,  860,  740,  810],\n",
       "       [ 980,  900,  970,  750,  820],\n",
       "       [ 880,  840,  950,  760,  850],\n",
       "       [1000,  830,  880,  910,  870],\n",
       "       [ 980,  790,  910,  920,  870],\n",
       "       [ 930,  810,  850,  890,  810],\n",
       "       [ 650,  880,  870,  860,  740],\n",
       "       [ 760,  880,  840,  880,  810],\n",
       "       [ 810,  830,  840,  720,  940],\n",
       "       [1000,  800,  850,  840,  950],\n",
       "       [1000,  790,  840,  850,  800],\n",
       "       [ 960,  760,  840,  850,  810],\n",
       "       [ 960,  800,  840,  780,  870]], dtype=int64)"
      ]
     },
     "execution_count": 37,
     "metadata": {},
     "output_type": "execute_result"
    }
   ],
   "source": [
    "morley_experiments = morley.iloc[:, 3].values.reshape(5, 20).T\n",
    "morley_experiments"
   ]
  },
  {
   "cell_type": "code",
   "execution_count": 77,
   "id": "95710999",
   "metadata": {},
   "outputs": [
    {
     "data": {
      "image/png": "[encoded data removed]",
      "text/plain": [
       "<Figure size 700x600 with 1 Axes>"
      ]
     },
     "metadata": {},
     "output_type": "display_data"
    }
   ],
   "source": [
    "fig, ax = plt.subplots(figsize=(7,6))\n",
    "ax.boxplot(morley_experiments, whiskerprops = dict(linestyle='--'), medianprops=dict(color='#000000'));\n",
    "ax.set_xlabel('Experiment No.')\n",
    "ax.set_ylabel('Speed of light (km/s minus 299,000)');\n",
    "ax.axhline(y=790, color='red', linewidth=1, label='true speed')\n",
    "ax.text(x=2.7, y=770, s='true speed');"
   ]
  },
  {
   "cell_type": "markdown",
   "id": "29660412",
   "metadata": {},
   "source": [
    "**Exercise 2**  \n",
    "_Create box plots for all of the numercial variables in Fisher's Iris Data Set._"
   ]
  },
  {
   "cell_type": "markdown",
   "id": "c02afbf3",
   "metadata": {},
   "source": [
    "**Exercise 3**  \n",
    "_Adapt the above code and plots so that the overall plot is inversely propertional and the individual groups are directly proportional._"
   ]
  },
  {
   "cell_type": "markdown",
   "id": "dc078374",
   "metadata": {},
   "source": [
    "#### References:\n",
    " * Mcloughlin, I., (2022). GitHub repository, https://github.com/ianmcloughlin/2223-S1-fund-data-analysis/blob/main/notebooks/04-outliers.ipynb   \n",
    " * Wikipedia contributors (2022, December 4). Box plot. In Wikipedia, The Free Encyclopedia. Retrieved December 15, 2022 from https://en.wikipedia.org/w/index.php?title=Box_plot&oldid=1125442600  \n",
    " * Arel-Bundock, V., (n.d.). Michelson Speed of Light Data. Retrieved December 15, 2022 from https://vincentarelbundock.github.io/Rdatasets/articles/data.html    \n",
    " * https://stackoverflow.com/questions/46226032/how-to-change-the-linestyle-of-whiskers-in-pandas-boxplots  \n",
    " * Matplotlib documentation (2022). matplotlib.pyplot.boxplot. Version 3.6, Retrieved December 16, 2022 from https://matplotlib.org/stable/api/_as_gen/matplotlib.pyplot.boxplot.html    \n",
    "    "
   ]
  },
  {
   "cell_type": "code",
   "execution_count": null,
   "id": "2bfdb792",
   "metadata": {},
   "outputs": [],
   "source": []
  }
 ],
 "metadata": {
  "kernelspec": {
   "display_name": "Python 3 (ipykernel)",
   "language": "python",
   "name": "python3"
  },
  "language_info": {
   "codemirror_mode": {
    "name": "ipython",
    "version": 3
   },
   "file_extension": ".py",
   "mimetype": "text/x-python",
   "name": "python",
   "nbconvert_exporter": "python",
   "pygments_lexer": "ipython3",
   "version": "3.9.13"
  },
  "toc": {
   "base_numbering": 1,
   "nav_menu": {},
   "number_sections": false,
   "sideBar": true,
   "skip_h1_title": false,
   "title_cell": "Table of Contents",
   "title_sidebar": "Contents",
   "toc_cell": false,
   "toc_position": {},
   "toc_section_display": true,
   "toc_window_display": false
  }
 },
 "nbformat": 4,
 "nbformat_minor": 5
}
