{
 "cells": [
  {
   "cell_type": "markdown",
   "id": "d387ab3f",
   "metadata": {},
   "source": [
    "#### Outliers\n",
    "**Boxplots** "
   ]
  },
  {
   "cell_type": "code",
   "execution_count": 10,
   "id": "72ca72d1",
   "metadata": {},
   "outputs": [],
   "source": [
    "import numpy as np\n",
    "import matplotlib.pyplot as plt\n",
    "import scipy.stats as ss\n",
    "import pandas as pd"
   ]
  },
  {
   "cell_type": "code",
   "execution_count": 12,
   "id": "fbff2d62",
   "metadata": {},
   "outputs": [
    {
     "data": {
      "text/html": [
       "<div>\n",
       "<style scoped>\n",
       "    .dataframe tbody tr th:only-of-type {\n",
       "        vertical-align: middle;\n",
       "    }\n",
       "\n",
       "    .dataframe tbody tr th {\n",
       "        vertical-align: top;\n",
       "    }\n",
       "\n",
       "    .dataframe thead th {\n",
       "        text-align: right;\n",
       "    }\n",
       "</style>\n",
       "<table border=\"1\" class=\"dataframe\">\n",
       "  <thead>\n",
       "    <tr style=\"text-align: right;\">\n",
       "      <th></th>\n",
       "      <th>Unnamed: 0</th>\n",
       "      <th>Expt</th>\n",
       "      <th>Run</th>\n",
       "      <th>Speed</th>\n",
       "    </tr>\n",
       "  </thead>\n",
       "  <tbody>\n",
       "    <tr>\n",
       "      <th>0</th>\n",
       "      <td>1</td>\n",
       "      <td>1</td>\n",
       "      <td>1</td>\n",
       "      <td>850</td>\n",
       "    </tr>\n",
       "    <tr>\n",
       "      <th>1</th>\n",
       "      <td>2</td>\n",
       "      <td>1</td>\n",
       "      <td>2</td>\n",
       "      <td>740</td>\n",
       "    </tr>\n",
       "    <tr>\n",
       "      <th>2</th>\n",
       "      <td>3</td>\n",
       "      <td>1</td>\n",
       "      <td>3</td>\n",
       "      <td>900</td>\n",
       "    </tr>\n",
       "    <tr>\n",
       "      <th>3</th>\n",
       "      <td>4</td>\n",
       "      <td>1</td>\n",
       "      <td>4</td>\n",
       "      <td>1070</td>\n",
       "    </tr>\n",
       "    <tr>\n",
       "      <th>4</th>\n",
       "      <td>5</td>\n",
       "      <td>1</td>\n",
       "      <td>5</td>\n",
       "      <td>930</td>\n",
       "    </tr>\n",
       "    <tr>\n",
       "      <th>...</th>\n",
       "      <td>...</td>\n",
       "      <td>...</td>\n",
       "      <td>...</td>\n",
       "      <td>...</td>\n",
       "    </tr>\n",
       "    <tr>\n",
       "      <th>95</th>\n",
       "      <td>96</td>\n",
       "      <td>5</td>\n",
       "      <td>16</td>\n",
       "      <td>940</td>\n",
       "    </tr>\n",
       "    <tr>\n",
       "      <th>96</th>\n",
       "      <td>97</td>\n",
       "      <td>5</td>\n",
       "      <td>17</td>\n",
       "      <td>950</td>\n",
       "    </tr>\n",
       "    <tr>\n",
       "      <th>97</th>\n",
       "      <td>98</td>\n",
       "      <td>5</td>\n",
       "      <td>18</td>\n",
       "      <td>800</td>\n",
       "    </tr>\n",
       "    <tr>\n",
       "      <th>98</th>\n",
       "      <td>99</td>\n",
       "      <td>5</td>\n",
       "      <td>19</td>\n",
       "      <td>810</td>\n",
       "    </tr>\n",
       "    <tr>\n",
       "      <th>99</th>\n",
       "      <td>100</td>\n",
       "      <td>5</td>\n",
       "      <td>20</td>\n",
       "      <td>870</td>\n",
       "    </tr>\n",
       "  </tbody>\n",
       "</table>\n",
       "<p>100 rows × 4 columns</p>\n",
       "</div>"
      ],
      "text/plain": [
       "    Unnamed: 0  Expt  Run  Speed\n",
       "0            1     1    1    850\n",
       "1            2     1    2    740\n",
       "2            3     1    3    900\n",
       "3            4     1    4   1070\n",
       "4            5     1    5    930\n",
       "..         ...   ...  ...    ...\n",
       "95          96     5   16    940\n",
       "96          97     5   17    950\n",
       "97          98     5   18    800\n",
       "98          99     5   19    810\n",
       "99         100     5   20    870\n",
       "\n",
       "[100 rows x 4 columns]"
      ]
     },
     "execution_count": 12,
     "metadata": {},
     "output_type": "execute_result"
    }
   ],
   "source": [
    "morley = pd.read_csv('morley.csv')\n",
    "# or morley = np.genfromytxt('morley.csv')\n",
    "morley"
   ]
  },
  {
   "cell_type": "code",
   "execution_count": 33,
   "id": "50fec167",
   "metadata": {},
   "outputs": [
    {
     "data": {
      "text/plain": [
       "0      850\n",
       "1      740\n",
       "2      900\n",
       "3     1070\n",
       "4      930\n",
       "5      850\n",
       "6      950\n",
       "7      980\n",
       "8      980\n",
       "9      880\n",
       "10    1000\n",
       "11     980\n",
       "12     930\n",
       "13     650\n",
       "14     760\n",
       "15     810\n",
       "16    1000\n",
       "17    1000\n",
       "18     960\n",
       "19     960\n",
       "Name: Speed, dtype: int64"
      ]
     },
     "execution_count": 33,
     "metadata": {},
     "output_type": "execute_result"
    }
   ],
   "source": [
    "# slice the data frame by index position \n",
    "morley.iloc[0:20, 3]"
   ]
  },
  {
   "cell_type": "markdown",
   "id": "bf5c182d",
   "metadata": {},
   "source": [
    "**Exercise 1**  \n",
    "_Create box plots on a single set of axes for all five experiments in the morley data set._"
   ]
  },
  {
   "cell_type": "markdown",
   "id": "29660412",
   "metadata": {},
   "source": [
    "**Exercise 2**  \n",
    "_Create box plots for all of the numercial variables in Fisher's Iris Data Set._"
   ]
  },
  {
   "cell_type": "markdown",
   "id": "c02afbf3",
   "metadata": {},
   "source": [
    "**Exercise 3**  \n",
    "_Adapt the above code and plots so that the overall plot is inversely propertional and the individual groups are directly proportional._"
   ]
  },
  {
   "cell_type": "markdown",
   "id": "f29b3d84",
   "metadata": {},
   "source": [
    "#### References:\n",
    " * Wikipedia contributors (2022, December 4). Box plot. In Wikipedia, The Free Encyclopedia. Retrieved December 15, 2022 from https://en.wikipedia.org/w/index.php?title=Box_plot&oldid=1125442600  \n",
    " * https://vincentarelbundock.github.io/Rdatasets/articles/data.html  "
   ]
  },
  {
   "cell_type": "code",
   "execution_count": null,
   "id": "2bfdb792",
   "metadata": {},
   "outputs": [],
   "source": []
  }
 ],
 "metadata": {
  "kernelspec": {
   "display_name": "Python 3 (ipykernel)",
   "language": "python",
   "name": "python3"
  },
  "language_info": {
   "codemirror_mode": {
    "name": "ipython",
    "version": 3
   },
   "file_extension": ".py",
   "mimetype": "text/x-python",
   "name": "python",
   "nbconvert_exporter": "python",
   "pygments_lexer": "ipython3",
   "version": "3.9.13"
  },
  "toc": {
   "base_numbering": 1,
   "nav_menu": {},
   "number_sections": false,
   "sideBar": true,
   "skip_h1_title": false,
   "title_cell": "Table of Contents",
   "title_sidebar": "Contents",
   "toc_cell": false,
   "toc_position": {},
   "toc_section_display": true,
   "toc_window_display": false
  }
 },
 "nbformat": 4,
 "nbformat_minor": 5
}
