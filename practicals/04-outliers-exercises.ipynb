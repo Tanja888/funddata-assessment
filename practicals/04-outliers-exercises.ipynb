{
 "cells": [
  {
   "cell_type": "markdown",
   "id": "4c51fc65",
   "metadata": {},
   "source": [
    "#### Outliers"
   ]
  },
  {
   "cell_type": "markdown",
   "id": "bf5c182d",
   "metadata": {},
   "source": [
    "**Exercise 1**  \n",
    "_Create box plots on a single set of axes for all five experiments in the morley data set._"
   ]
  },
  {
   "cell_type": "markdown",
   "id": "29660412",
   "metadata": {},
   "source": [
    "**Exercise 2**  \n",
    "_Create box plots for all of the numercial variables in Fisher's Iris Data Set._"
   ]
  },
  {
   "cell_type": "markdown",
   "id": "c02afbf3",
   "metadata": {},
   "source": [
    "**Exercise 3**  \n",
    "_Adapt the above code and plots so that the overall plot is inversely propertional and the individual groups are directly proportional._"
   ]
  },
  {
   "cell_type": "code",
   "execution_count": null,
   "id": "66e3fb53",
   "metadata": {},
   "outputs": [],
   "source": []
  }
 ],
 "metadata": {
  "kernelspec": {
   "display_name": "Python 3 (ipykernel)",
   "language": "python",
   "name": "python3"
  },
  "language_info": {
   "codemirror_mode": {
    "name": "ipython",
    "version": 3
   },
   "file_extension": ".py",
   "mimetype": "text/x-python",
   "name": "python",
   "nbconvert_exporter": "python",
   "pygments_lexer": "ipython3",
   "version": "3.9.13"
  },
  "toc": {
   "base_numbering": 1,
   "nav_menu": {},
   "number_sections": false,
   "sideBar": true,
   "skip_h1_title": false,
   "title_cell": "Table of Contents",
   "title_sidebar": "Contents",
   "toc_cell": false,
   "toc_position": {},
   "toc_section_display": true,
   "toc_window_display": false
  }
 },
 "nbformat": 4,
 "nbformat_minor": 5
}
