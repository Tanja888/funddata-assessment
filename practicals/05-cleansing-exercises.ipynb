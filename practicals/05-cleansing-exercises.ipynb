{
 "cells": [
  {
   "cell_type": "markdown",
   "id": "936f2148",
   "metadata": {},
   "source": [
    "### Cleansing"
   ]
  },
  {
   "cell_type": "markdown",
   "id": "75aad878",
   "metadata": {},
   "source": [
    "#### Exercise 1\n",
    "_Write a Python function to remove all non-alphanumeric characters from a string._"
   ]
  },
  {
   "cell_type": "code",
   "execution_count": 46,
   "id": "108406b4",
   "metadata": {},
   "outputs": [
    {
     "data": {
      "text/plain": [
       "'purplealicebgooglecommonkeydishwasher'"
      ]
     },
     "execution_count": 46,
     "metadata": {},
     "output_type": "execute_result"
    }
   ],
   "source": [
    "import re\n",
    "\n",
    "#re.sub(pattern, repl, string, count=0, flags=0)\n",
    "\n",
    "example = 'purple alice-b@google.com monkey dishwasher'\n",
    "#\\W = '[^a-zA-Z0-9_]' \n",
    "pattern = r'\\W+'\n",
    "result = re.sub(pattern, '', example, count=0, flags=0)\n",
    "result"
   ]
  },
  {
   "cell_type": "code",
   "execution_count": null,
   "id": "ef742cb6",
   "metadata": {},
   "outputs": [],
   "source": []
  },
  {
   "cell_type": "code",
   "execution_count": null,
   "id": "f5e2952b",
   "metadata": {},
   "outputs": [],
   "source": []
  },
  {
   "cell_type": "code",
   "execution_count": null,
   "id": "6ec45354",
   "metadata": {},
   "outputs": [],
   "source": []
  },
  {
   "cell_type": "code",
   "execution_count": null,
   "id": "1e8cd847",
   "metadata": {},
   "outputs": [],
   "source": []
  },
  {
   "cell_type": "code",
   "execution_count": null,
   "id": "8d7c0650",
   "metadata": {},
   "outputs": [],
   "source": []
  },
  {
   "cell_type": "code",
   "execution_count": null,
   "id": "03f3acfe",
   "metadata": {},
   "outputs": [],
   "source": []
  },
  {
   "cell_type": "code",
   "execution_count": null,
   "id": "2016ff74",
   "metadata": {},
   "outputs": [],
   "source": []
  },
  {
   "cell_type": "markdown",
   "id": "e06e5b26",
   "metadata": {},
   "source": [
    "#### Exercise 2\n",
    "_Adapt the above code to capitalise the first letter of the iris species, using regular expressions._"
   ]
  },
  {
   "cell_type": "markdown",
   "id": "25014ce0",
   "metadata": {},
   "source": [
    "#### References:\n",
    "Mcloughlin, I., (2022). GitHub repository, https://github.com/ianmcloughlin/2223-S1-fund-data-analysis/blob/main/notebooks/05-cleansing.ipynb  \n",
    "Python Documentation (2022). re — Regular expression operations. Version 3.11.1, Retrieved December 18, 2022 from https://docs.python.org/3/library/re.html   "
   ]
  }
 ],
 "metadata": {
  "kernelspec": {
   "display_name": "Python 3 (ipykernel)",
   "language": "python",
   "name": "python3"
  },
  "language_info": {
   "codemirror_mode": {
    "name": "ipython",
    "version": 3
   },
   "file_extension": ".py",
   "mimetype": "text/x-python",
   "name": "python",
   "nbconvert_exporter": "python",
   "pygments_lexer": "ipython3",
   "version": "3.9.13"
  },
  "toc": {
   "base_numbering": 1,
   "nav_menu": {},
   "number_sections": false,
   "sideBar": true,
   "skip_h1_title": false,
   "title_cell": "Table of Contents",
   "title_sidebar": "Contents",
   "toc_cell": false,
   "toc_position": {},
   "toc_section_display": true,
   "toc_window_display": false
  }
 },
 "nbformat": 4,
 "nbformat_minor": 5
}
