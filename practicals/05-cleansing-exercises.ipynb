{
 "cells": [
  {
   "cell_type": "markdown",
   "id": "936f2148",
   "metadata": {},
   "source": [
    "### Cleansing"
   ]
  },
  {
   "cell_type": "markdown",
   "id": "75aad878",
   "metadata": {},
   "source": [
    "#### Exercise 1\n",
    "_Write a Python function to remove all non-alphanumeric characters from a string._"
   ]
  },
  {
   "cell_type": "markdown",
   "id": "e06e5b26",
   "metadata": {},
   "source": [
    "#### Exercise 2\n",
    "_Adapt the above code to capitalise the first letter of the iris species, using regular expressions._"
   ]
  },
  {
   "cell_type": "code",
   "execution_count": null,
   "id": "c14f6756",
   "metadata": {},
   "outputs": [],
   "source": []
  }
 ],
 "metadata": {
  "kernelspec": {
   "display_name": "Python 3 (ipykernel)",
   "language": "python",
   "name": "python3"
  },
  "language_info": {
   "codemirror_mode": {
    "name": "ipython",
    "version": 3
   },
   "file_extension": ".py",
   "mimetype": "text/x-python",
   "name": "python",
   "nbconvert_exporter": "python",
   "pygments_lexer": "ipython3",
   "version": "3.9.13"
  },
  "toc": {
   "base_numbering": 1,
   "nav_menu": {},
   "number_sections": false,
   "sideBar": true,
   "skip_h1_title": false,
   "title_cell": "Table of Contents",
   "title_sidebar": "Contents",
   "toc_cell": false,
   "toc_position": {},
   "toc_section_display": true,
   "toc_window_display": false
  }
 },
 "nbformat": 4,
 "nbformat_minor": 5
}
