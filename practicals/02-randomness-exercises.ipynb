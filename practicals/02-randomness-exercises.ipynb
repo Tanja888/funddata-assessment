{
 "cells": [
  {
   "cell_type": "markdown",
   "id": "14dd7452",
   "metadata": {},
   "source": [
    "### Randomness"
   ]
  },
  {
   "cell_type": "code",
   "execution_count": 2,
   "id": "d33e1d98",
   "metadata": {},
   "outputs": [
    {
     "data": {
      "text/plain": [
       "1"
      ]
     },
     "execution_count": 2,
     "metadata": {},
     "output_type": "execute_result"
    }
   ],
   "source": [
    "# For generating numbers.\n",
    "import numpy as np\n",
    "\n",
    "# Flip a fair coin.\n",
    "np.random.binomial(1, 0.5)"
   ]
  },
  {
   "cell_type": "code",
   "execution_count": 3,
   "id": "4b1f1710",
   "metadata": {},
   "outputs": [
    {
     "data": {
      "text/plain": [
       "array([1, 0, 1, 0, 1, 1, 1, 0, 0, 0, 0, 0, 1, 0, 0, 0, 1, 0, 0, 1, 1, 0,\n",
       "       0, 1, 1, 0, 0, 0, 1, 0, 0, 1, 0, 1, 0, 0, 1, 1, 0, 0, 1, 0, 1, 1,\n",
       "       1, 0, 0, 1, 1, 1, 0, 1, 1, 1, 1, 0, 1, 0, 0, 1, 1, 0, 0, 0, 1, 1,\n",
       "       0, 1, 0, 1, 1, 0, 0, 0, 1, 0, 0, 1, 0, 1, 1, 1, 0, 1, 1, 1, 1, 0,\n",
       "       1, 1, 1, 1, 0, 0, 1, 1, 1, 0, 0, 1])"
      ]
     },
     "execution_count": 3,
     "metadata": {},
     "output_type": "execute_result"
    }
   ],
   "source": [
    "# Repeated flips\n",
    "# Flip a fair coin 100 times.\n",
    "np.random.binomial(1, 0.5, 100)"
   ]
  },
  {
   "cell_type": "code",
   "execution_count": 4,
   "id": "23f59722",
   "metadata": {},
   "outputs": [
    {
     "data": {
      "text/plain": [
       "59"
      ]
     },
     "execution_count": 4,
     "metadata": {},
     "output_type": "execute_result"
    }
   ],
   "source": [
    "# Flip a fair coin 100 times, giving only the total number of heads.\n",
    "np.random.binomial(100, 0.5)"
   ]
  },
  {
   "cell_type": "code",
   "execution_count": 5,
   "id": "915ee577",
   "metadata": {},
   "outputs": [
    {
     "name": "stdout",
     "output_type": "stream",
     "text": [
      "[0 0 1 0 0 1 0 1 1 1]\n",
      "[0 0 1 0 1 0 1 0 1 1]\n",
      "[0 0 1 0 0 0 1 1 1 1]\n",
      "Total generated: 14\n"
     ]
    }
   ],
   "source": [
    "# 10 coin flips\n",
    "# Keep flipping coins until we get three examples of getting five heads in ten coin tosses.\n",
    "\n",
    "# Number of examples.\n",
    "N = 3\n",
    "\n",
    "# Keep track of number of arrays generated.\n",
    "total_no = 0\n",
    "\n",
    "# Keep trying until we get three examples.\n",
    "while N > 0:\n",
    "    # Add 1 to total.\n",
    "    total_no = total_no + 1\n",
    "    # Toss 10 coins.\n",
    "    tosses = np.random.binomial(1, 0.5, 10)\n",
    "    # Check if we got five heads.\n",
    "    if tosses.sum() == 5:\n",
    "        # If we got 5 heads, print the list of heads/tails.\n",
    "        print(tosses)\n",
    "        # Reduce the number of examples left to find by 1.\n",
    "        N = N - 1\n",
    "\n",
    "print(f'Total generated: {total_no}')"
   ]
  },
  {
   "cell_type": "code",
   "execution_count": 6,
   "id": "5ca2cd07",
   "metadata": {},
   "outputs": [
    {
     "data": {
      "text/plain": [
       "252"
      ]
     },
     "execution_count": 6,
     "metadata": {},
     "output_type": "execute_result"
    }
   ],
   "source": [
    "# Counting heads\n",
    "(10 * 9 * 8 * 7 * 6) // (5 * 4 * 3 * 2 * 1)"
   ]
  },
  {
   "cell_type": "code",
   "execution_count": 7,
   "id": "5140507b",
   "metadata": {},
   "outputs": [
    {
     "name": "stdout",
     "output_type": "stream",
     "text": [
      "( 1, 2)\n",
      "( 1, 3)\n",
      "( 1, 4)\n",
      "( 1, 5)\n",
      "( 1, 6)\n",
      "( 1, 7)\n",
      "( 1, 8)\n",
      "( 1, 9)\n",
      "( 1,10)\n",
      "( 2, 1)\n",
      "( 2, 3)\n",
      "( 2, 4)\n",
      "( 2, 5)\n",
      "( 2, 6)\n",
      "( 2, 7)\n",
      "( 2, 8)\n",
      "( 2, 9)\n",
      "( 2,10)\n",
      "( 3, 1)\n",
      "( 3, 2)\n",
      "( 3, 4)\n",
      "( 3, 5)\n",
      "( 3, 6)\n",
      "( 3, 7)\n",
      "( 3, 8)\n",
      "( 3, 9)\n",
      "( 3,10)\n",
      "( 4, 1)\n",
      "( 4, 2)\n",
      "( 4, 3)\n",
      "( 4, 5)\n",
      "( 4, 6)\n",
      "( 4, 7)\n",
      "( 4, 8)\n",
      "( 4, 9)\n",
      "( 4,10)\n",
      "( 5, 1)\n",
      "( 5, 2)\n",
      "( 5, 3)\n",
      "( 5, 4)\n",
      "( 5, 6)\n",
      "( 5, 7)\n",
      "( 5, 8)\n",
      "( 5, 9)\n",
      "( 5,10)\n",
      "( 6, 1)\n",
      "( 6, 2)\n",
      "( 6, 3)\n",
      "( 6, 4)\n",
      "( 6, 5)\n",
      "( 6, 7)\n",
      "( 6, 8)\n",
      "( 6, 9)\n",
      "( 6,10)\n",
      "( 7, 1)\n",
      "( 7, 2)\n",
      "( 7, 3)\n",
      "( 7, 4)\n",
      "( 7, 5)\n",
      "( 7, 6)\n",
      "( 7, 8)\n",
      "( 7, 9)\n",
      "( 7,10)\n",
      "( 8, 1)\n",
      "( 8, 2)\n",
      "( 8, 3)\n",
      "( 8, 4)\n",
      "( 8, 5)\n",
      "( 8, 6)\n",
      "( 8, 7)\n",
      "( 8, 9)\n",
      "( 8,10)\n",
      "( 9, 1)\n",
      "( 9, 2)\n",
      "( 9, 3)\n",
      "( 9, 4)\n",
      "( 9, 5)\n",
      "( 9, 6)\n",
      "( 9, 7)\n",
      "( 9, 8)\n",
      "( 9,10)\n",
      "(10, 1)\n",
      "(10, 2)\n",
      "(10, 3)\n",
      "(10, 4)\n",
      "(10, 5)\n",
      "(10, 6)\n",
      "(10, 7)\n",
      "(10, 8)\n",
      "(10, 9)\n",
      "Total combinations is 90.\n"
     ]
    }
   ],
   "source": [
    "# Possibilities for positions of the first and second 1's\n",
    "# Number of combinations.\n",
    "no_combs = 0\n",
    "\n",
    "# Select the first position.\n",
    "for first in [1, 2, 3, 4, 5, 6, 7, 8, 9, 10]:\n",
    "    # Select the position for the second position.\n",
    "    for second in [1, 2, 3, 4, 5, 6, 7, 8, 9, 10]:\n",
    "        # Make sure the first and second positions are different.\n",
    "        if not first == second:\n",
    "            # Print the combination.\n",
    "            print(f'({first:2},{second:2})')\n",
    "            # Add one to number of combinations.\n",
    "            no_combs = no_combs + 1\n",
    "\n",
    "# Print total number of combinations.\n",
    "print(f'Total combinations is {no_combs}.')"
   ]
  },
  {
   "cell_type": "code",
   "execution_count": 9,
   "id": "2c82c8f9",
   "metadata": {},
   "outputs": [
    {
     "data": {
      "text/plain": [
       "45"
      ]
     },
     "execution_count": 9,
     "metadata": {},
     "output_type": "execute_result"
    }
   ],
   "source": [
    "# Every outcome is counted twice; \n",
    "# We need to divide the 90 by 2, to get 45 distinct placements of the first two 1's\n",
    "90 // 2"
   ]
  },
  {
   "cell_type": "code",
   "execution_count": 10,
   "id": "def85cc5",
   "metadata": {},
   "outputs": [
    {
     "data": {
      "text/plain": [
       "1024"
      ]
     },
     "execution_count": 10,
     "metadata": {},
     "output_type": "execute_result"
    }
   ],
   "source": [
    "# There are 45 ways to get two heads, and 252 ways to get five heads.\n",
    "# There are two possibilities for the first flip, and two for the second, and two for the third, and so on\n",
    "# To calculate all the possibilites - there are 2 to the power of 10 possible results in flipping a coin ten times\n",
    "2**10"
   ]
  },
  {
   "cell_type": "markdown",
   "id": "bd7266fa",
   "metadata": {},
   "source": [
    "#### Exercise 1\n",
    "\n",
    "_It is somewhat interesting that (5 * 4 * 3 * 2 * 1) perfectly divides (10 * 9 * 8 * 7 * 6) - there's no remainder.\n",
    "If we only wanted exactly four heads as opposed to five, the equivalent calculation would be (10 * 9 * 8 * 7) / (4 * 3 * 2 * 1).\n",
    "Does that evenly divide too? What is the formula in general?\n",
    "Does it always come out as a positive whole number?_"
   ]
  },
  {
   "cell_type": "markdown",
   "id": "6ad064d7",
   "metadata": {},
   "source": [
    "In this case we are using formula for the **binomial coefficient**:  \n",
    "    \n",
    "**${n\\choose k}=\\frac{n!}{k!(n-k)!}$**  \n",
    "\n",
    "It refers to a number of possible ways or combinations to choose wanted number of cases k from the total n or **n choose k**.  \n",
    "In our example we are choosing four heads (k) out of 10 coin flips (n).  \n",
    "\n",
    "Using the above formula with factorials we get:  \n",
    "    \n",
    "${10\\choose 4}=\\frac{10!}{4!(10-4)!}=\\frac{10!}{4!6!}=\\frac{10 * 9 * 8 * 7 * 6!}{4!6!}=\\frac{10 * 9 * 8 * 7}{4 * 3 * 2 * 1}=\\frac{5040}{24}$ = 210  \n",
    "\n",
    "That means there are 210 possible ways to choose 4 heads out of 10 coin flips.  \n",
    "\n",
    "We are refering only to the possible number of outcomes of getting four heads, not their order which is implied in the definition of binomial coefficient or the **combination**.  \n",
    "Otherwise, we would be using **permutation** to find out the order of the possible outcomes.  "
   ]
  },
  {
   "cell_type": "markdown",
   "id": "3f842c0e",
   "metadata": {},
   "source": [
    "#### Exercise 2\n",
    "_Note that there are the same number of ways to get 4 tails as there to get 4 heads. Explain why this is._  "
   ]
  },
  {
   "cell_type": "markdown",
   "id": "960fc108",
   "metadata": {},
   "source": [
    "Since we are calculating how many ways or combinations there are to get 4 heads or 4 tails, it's not important how we call them,\n",
    "doesn't matter if it's heads or tails, the equation is giving us four out of ten cycles either way."
   ]
  },
  {
   "cell_type": "code",
   "execution_count": 9,
   "id": "ff831cd8",
   "metadata": {},
   "outputs": [
    {
     "data": {
      "text/plain": [
       "210"
      ]
     },
     "execution_count": 9,
     "metadata": {},
     "output_type": "execute_result"
    }
   ],
   "source": [
    "# We can show it with the math.comb method\n",
    "import math\n",
    "# anyfour = math.comb(n, k)\n",
    "anyfour = math.comb(10, 4)\n",
    "anyfour"
   ]
  },
  {
   "cell_type": "code",
   "execution_count": 12,
   "id": "d722c6c0",
   "metadata": {},
   "outputs": [
    {
     "data": {
      "text/plain": [
       "210"
      ]
     },
     "execution_count": 12,
     "metadata": {},
     "output_type": "execute_result"
    }
   ],
   "source": [
    "# Or by importing scipy.special function\n",
    "import scipy.special\n",
    "# exact = True to get the integer\n",
    "anyfour = scipy.special.comb(10, 4, exact = True)\n",
    "anyfour"
   ]
  },
  {
   "cell_type": "markdown",
   "id": "5d136a05",
   "metadata": {},
   "source": [
    "#### References:\n",
    " * GeeksforGeeks, (2020). Python - math.comb() method, https://www.geeksforgeeks.org/python-math-comb-method/  \n",
    " * Mathematical Explorations (2020, August, 6). Binomial Coefficients in LaTeX [Video file]. YouTube. https://www.youtube.com/watch?v=6Zf5spwf4xc  \n",
    " * Mcloughlin, I., (2022). GitHub repository, https://github.com/ianmcloughlin/2223-S1-fund-data-analysis/blob/main/notebooks/02-randomness.ipynb   \n",
    " * SciPy documentation. Version 1.9.3 (2022). scipy.special.comb, https://docs.scipy.org/doc/scipy/reference/generated/scipy.special.comb.html?highlight=comb    \n",
    " * Weisstein, E.W., (n.d.). Binomial Coefficient, https://mathworld.wolfram.com/BinomialCoefficient.html    "
   ]
  }
 ],
 "metadata": {
  "kernelspec": {
   "display_name": "Python 3 (ipykernel)",
   "language": "python",
   "name": "python3"
  },
  "language_info": {
   "codemirror_mode": {
    "name": "ipython",
    "version": 3
   },
   "file_extension": ".py",
   "mimetype": "text/x-python",
   "name": "python",
   "nbconvert_exporter": "python",
   "pygments_lexer": "ipython3",
   "version": "3.9.13"
  }
 },
 "nbformat": 4,
 "nbformat_minor": 5
}
