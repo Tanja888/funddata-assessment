{
 "cells": [
  {
   "cell_type": "markdown",
   "id": "14dd7452",
   "metadata": {},
   "source": [
    "### Randomness"
   ]
  },
  {
   "cell_type": "markdown",
   "id": "75d7d0d7",
   "metadata": {},
   "source": [
    "_The code below was taken from I. Mcloughlin's GitHub repository and is part of the lectures for Fundamentals of Data Analysis at Atlantic Technological University. Reference at the bottom of the page._"
   ]
  },
  {
   "cell_type": "code",
   "execution_count": 1,
   "id": "d33e1d98",
   "metadata": {},
   "outputs": [
    {
     "data": {
      "text/plain": [
       "1"
      ]
     },
     "execution_count": 1,
     "metadata": {},
     "output_type": "execute_result"
    }
   ],
   "source": [
    "# For generating numbers.\n",
    "import numpy as np\n",
    "\n",
    "# Flip a fair coin.\n",
    "np.random.binomial(1, 0.5)"
   ]
  },
  {
   "cell_type": "code",
   "execution_count": 2,
   "id": "4b1f1710",
   "metadata": {},
   "outputs": [
    {
     "data": {
      "text/plain": [
       "array([0, 1, 1, 0, 0, 0, 1, 0, 1, 1, 1, 0, 1, 0, 0, 0, 1, 1, 1, 1, 1, 1,\n",
       "       1, 1, 0, 0, 1, 1, 1, 1, 0, 0, 1, 1, 1, 1, 0, 0, 0, 0, 1, 1, 0, 1,\n",
       "       1, 0, 1, 1, 0, 1, 0, 1, 0, 0, 1, 1, 0, 1, 1, 0, 1, 1, 0, 0, 0, 1,\n",
       "       1, 1, 0, 0, 0, 0, 1, 0, 1, 0, 0, 1, 1, 0, 0, 1, 1, 0, 1, 1, 1, 1,\n",
       "       0, 1, 1, 1, 0, 0, 0, 0, 1, 1, 1, 1])"
      ]
     },
     "execution_count": 2,
     "metadata": {},
     "output_type": "execute_result"
    }
   ],
   "source": [
    "# Repeated flips\n",
    "# Flip a fair coin 100 times.\n",
    "np.random.binomial(1, 0.5, 100)"
   ]
  },
  {
   "cell_type": "code",
   "execution_count": 3,
   "id": "23f59722",
   "metadata": {},
   "outputs": [
    {
     "data": {
      "text/plain": [
       "49"
      ]
     },
     "execution_count": 3,
     "metadata": {},
     "output_type": "execute_result"
    }
   ],
   "source": [
    "# Flip a fair coin 100 times, giving only the total number of heads.\n",
    "np.random.binomial(100, 0.5)"
   ]
  },
  {
   "cell_type": "code",
   "execution_count": 4,
   "id": "915ee577",
   "metadata": {},
   "outputs": [
    {
     "name": "stdout",
     "output_type": "stream",
     "text": [
      "[1 0 1 1 0 0 1 0 1 0]\n",
      "[0 0 1 0 1 1 0 0 1 1]\n",
      "[1 1 0 1 0 1 0 0 0 1]\n",
      "Total generated: 14\n"
     ]
    }
   ],
   "source": [
    "# 10 coin flips\n",
    "# Keep flipping coins until we get three examples of getting five heads in ten coin tosses.\n",
    "\n",
    "# Number of examples.\n",
    "N = 3\n",
    "\n",
    "# Keep track of number of arrays generated.\n",
    "total_no = 0\n",
    "\n",
    "# Keep trying until we get three examples.\n",
    "while N > 0:\n",
    "    # Add 1 to total.\n",
    "    total_no = total_no + 1\n",
    "    # Toss 10 coins.\n",
    "    tosses = np.random.binomial(1, 0.5, 10)\n",
    "    # Check if we got five heads.\n",
    "    if tosses.sum() == 5:\n",
    "        # If we got 5 heads, print the list of heads/tails.\n",
    "        print(tosses)\n",
    "        # Reduce the number of examples left to find by 1.\n",
    "        N = N - 1\n",
    "\n",
    "print(f'Total generated: {total_no}')"
   ]
  },
  {
   "cell_type": "code",
   "execution_count": 5,
   "id": "5ca2cd07",
   "metadata": {},
   "outputs": [
    {
     "data": {
      "text/plain": [
       "252"
      ]
     },
     "execution_count": 5,
     "metadata": {},
     "output_type": "execute_result"
    }
   ],
   "source": [
    "# Counting heads\n",
    "(10 * 9 * 8 * 7 * 6) // (5 * 4 * 3 * 2 * 1)"
   ]
  },
  {
   "cell_type": "code",
   "execution_count": 6,
   "id": "5140507b",
   "metadata": {},
   "outputs": [
    {
     "name": "stdout",
     "output_type": "stream",
     "text": [
      "( 1, 2)\n",
      "( 1, 3)\n",
      "( 1, 4)\n",
      "( 1, 5)\n",
      "( 1, 6)\n",
      "( 1, 7)\n",
      "( 1, 8)\n",
      "( 1, 9)\n",
      "( 1,10)\n",
      "( 2, 1)\n",
      "( 2, 3)\n",
      "( 2, 4)\n",
      "( 2, 5)\n",
      "( 2, 6)\n",
      "( 2, 7)\n",
      "( 2, 8)\n",
      "( 2, 9)\n",
      "( 2,10)\n",
      "( 3, 1)\n",
      "( 3, 2)\n",
      "( 3, 4)\n",
      "( 3, 5)\n",
      "( 3, 6)\n",
      "( 3, 7)\n",
      "( 3, 8)\n",
      "( 3, 9)\n",
      "( 3,10)\n",
      "( 4, 1)\n",
      "( 4, 2)\n",
      "( 4, 3)\n",
      "( 4, 5)\n",
      "( 4, 6)\n",
      "( 4, 7)\n",
      "( 4, 8)\n",
      "( 4, 9)\n",
      "( 4,10)\n",
      "( 5, 1)\n",
      "( 5, 2)\n",
      "( 5, 3)\n",
      "( 5, 4)\n",
      "( 5, 6)\n",
      "( 5, 7)\n",
      "( 5, 8)\n",
      "( 5, 9)\n",
      "( 5,10)\n",
      "( 6, 1)\n",
      "( 6, 2)\n",
      "( 6, 3)\n",
      "( 6, 4)\n",
      "( 6, 5)\n",
      "( 6, 7)\n",
      "( 6, 8)\n",
      "( 6, 9)\n",
      "( 6,10)\n",
      "( 7, 1)\n",
      "( 7, 2)\n",
      "( 7, 3)\n",
      "( 7, 4)\n",
      "( 7, 5)\n",
      "( 7, 6)\n",
      "( 7, 8)\n",
      "( 7, 9)\n",
      "( 7,10)\n",
      "( 8, 1)\n",
      "( 8, 2)\n",
      "( 8, 3)\n",
      "( 8, 4)\n",
      "( 8, 5)\n",
      "( 8, 6)\n",
      "( 8, 7)\n",
      "( 8, 9)\n",
      "( 8,10)\n",
      "( 9, 1)\n",
      "( 9, 2)\n",
      "( 9, 3)\n",
      "( 9, 4)\n",
      "( 9, 5)\n",
      "( 9, 6)\n",
      "( 9, 7)\n",
      "( 9, 8)\n",
      "( 9,10)\n",
      "(10, 1)\n",
      "(10, 2)\n",
      "(10, 3)\n",
      "(10, 4)\n",
      "(10, 5)\n",
      "(10, 6)\n",
      "(10, 7)\n",
      "(10, 8)\n",
      "(10, 9)\n",
      "Total combinations is 90.\n"
     ]
    }
   ],
   "source": [
    "# Possibilities for positions of the first and second 1's\n",
    "# Number of combinations.\n",
    "no_combs = 0\n",
    "\n",
    "# Select the first position.\n",
    "for first in [1, 2, 3, 4, 5, 6, 7, 8, 9, 10]:\n",
    "    # Select the position for the second position.\n",
    "    for second in [1, 2, 3, 4, 5, 6, 7, 8, 9, 10]:\n",
    "        # Make sure the first and second positions are different.\n",
    "        if not first == second:\n",
    "            # Print the combination.\n",
    "            print(f'({first:2},{second:2})')\n",
    "            # Add one to number of combinations.\n",
    "            no_combs = no_combs + 1\n",
    "\n",
    "# Print total number of combinations.\n",
    "print(f'Total combinations is {no_combs}.')"
   ]
  },
  {
   "cell_type": "code",
   "execution_count": 7,
   "id": "2c82c8f9",
   "metadata": {},
   "outputs": [
    {
     "data": {
      "text/plain": [
       "45"
      ]
     },
     "execution_count": 7,
     "metadata": {},
     "output_type": "execute_result"
    }
   ],
   "source": [
    "# Every outcome is counted twice; \n",
    "# We need to divide the 90 by 2, to get 45 distinct placements of the first two 1's\n",
    "90 // 2"
   ]
  },
  {
   "cell_type": "code",
   "execution_count": 8,
   "id": "def85cc5",
   "metadata": {},
   "outputs": [
    {
     "data": {
      "text/plain": [
       "1024"
      ]
     },
     "execution_count": 8,
     "metadata": {},
     "output_type": "execute_result"
    }
   ],
   "source": [
    "# There are 45 ways to get two heads, and 252 ways to get five heads.\n",
    "# There are two possibilities for the first flip, and two for the second, and two for the third, and so on\n",
    "# To calculate all the possibilites - there are 2 to the power of 10 possible results in flipping a coin ten times\n",
    "2**10"
   ]
  },
  {
   "cell_type": "code",
   "execution_count": 9,
   "id": "438a8bf8",
   "metadata": {},
   "outputs": [
    {
     "data": {
      "text/plain": [
       "0.24609375"
      ]
     },
     "execution_count": 9,
     "metadata": {},
     "output_type": "execute_result"
    }
   ],
   "source": [
    "# Probability of getting five heads when flipping a coin ten times.\n",
    "252 / 1024"
   ]
  },
  {
   "cell_type": "code",
   "execution_count": 10,
   "id": "bfeb0cfa",
   "metadata": {},
   "outputs": [
    {
     "data": {
      "text/plain": [
       "0.0009765625"
      ]
     },
     "execution_count": 10,
     "metadata": {},
     "output_type": "execute_result"
    }
   ],
   "source": [
    "# Probability of getting zero heads when flipping a coin ten times.\n",
    "1 / 1024"
   ]
  },
  {
   "cell_type": "code",
   "execution_count": 11,
   "id": "fb1b7212",
   "metadata": {},
   "outputs": [
    {
     "data": {
      "text/plain": [
       "252"
      ]
     },
     "execution_count": 11,
     "metadata": {},
     "output_type": "execute_result"
    }
   ],
   "source": [
    "# choose formula but comb in Python\n",
    "import math\n",
    "\n",
    "math.comb(10, 5)"
   ]
  },
  {
   "cell_type": "code",
   "execution_count": 12,
   "id": "d9882082",
   "metadata": {},
   "outputs": [
    {
     "data": {
      "image/png": "[encoded data removed]",
      "text/plain": [
       "<Figure size 640x480 with 1 Axes>"
      ]
     },
     "metadata": {},
     "output_type": "display_data"
    }
   ],
   "source": [
    "# Use this to plot the probabilities of getting heads for each of the numbers 0 to 10.\n",
    "# Plotting.\n",
    "import matplotlib.pyplot as plt\n",
    "\n",
    "# The number of coins we will flip.\n",
    "coins = 10\n",
    "\n",
    "# The number from 0 to 10 inclusive.\n",
    "x = list(range(coins + 1))\n",
    "\n",
    "# The number of ways of selecting i things from 10. \n",
    "y = [math.comb(coins, i) for i in x]\n",
    "\n",
    "# Display x and y as a bar chart.\n",
    "plt.bar(x, y);\n"
   ]
  },
  {
   "cell_type": "code",
   "execution_count": 13,
   "id": "6ca867e0",
   "metadata": {},
   "outputs": [
    {
     "data": {
      "image/png": "[encoded data removed]",
      "text/plain": [
       "<Figure size 640x480 with 1 Axes>"
      ]
     },
     "metadata": {},
     "output_type": "display_data"
    }
   ],
   "source": [
    "# Testing numpy\n",
    "# 10,000 trials and keep track of the number of heads for each\n",
    "\n",
    "# The number of coins we are to flip.\n",
    "coins = 10\n",
    "\n",
    "# Number of trials to run.\n",
    "trials = 10000\n",
    "\n",
    "# Run the trials.\n",
    "heads = np.random.binomial(coins, 0.5, trials)\n",
    "\n",
    "# Count the unique values in the returned list.\n",
    "vals, counts = np.unique(heads, return_counts=True)\n",
    "\n",
    "# Plot results in a histogram.\n",
    "plt.bar(vals, counts);"
   ]
  },
  {
   "cell_type": "code",
   "execution_count": 14,
   "id": "60ea6217",
   "metadata": {},
   "outputs": [
    {
     "data": {
      "image/png": "[encoded data removed]",
      "text/plain": [
       "<Figure size 640x480 with 1 Axes>"
      ]
     },
     "metadata": {},
     "output_type": "display_data"
    }
   ],
   "source": [
    "# Distributions\n",
    "# The number of coins we are to flip.\n",
    "coins = 1\n",
    "\n",
    "# Number of trials to run.\n",
    "trials = 10000\n",
    "\n",
    "# Run the trials.\n",
    "heads = np.random.binomial(coins, 0.5, trials)\n",
    "\n",
    "# Count the unique values in the returned list.\n",
    "vals, counts = np.unique(heads, return_counts=True)\n",
    "\n",
    "# Plot results in a histogram.\n",
    "plt.bar(vals, counts);"
   ]
  },
  {
   "cell_type": "code",
   "execution_count": 15,
   "id": "ebb32849",
   "metadata": {},
   "outputs": [
    {
     "data": {
      "image/png": "[encoded data removed]",
      "text/plain": [
       "<Figure size 640x480 with 1 Axes>"
      ]
     },
     "metadata": {},
     "output_type": "display_data"
    }
   ],
   "source": [
    "# The number of coins we are to flip.\n",
    "coins = 10\n",
    "\n",
    "# Number of trials to run.\n",
    "trials = 10000\n",
    "\n",
    "# Run the trials.\n",
    "heads = np.random.binomial(coins, 0.5, trials)\n",
    "\n",
    "# Count the unique values in the returned list.\n",
    "vals, counts = np.unique(heads, return_counts=True)\n",
    "\n",
    "# Plot results in a histogram.\n",
    "plt.bar(vals, counts);"
   ]
  },
  {
   "cell_type": "code",
   "execution_count": 16,
   "id": "c8b56b4e",
   "metadata": {},
   "outputs": [
    {
     "name": "stdout",
     "output_type": "stream",
     "text": [
      "[1 1 1 0] 7\n"
     ]
    }
   ],
   "source": [
    "# The number of possible outcomes.\n",
    "N = 11\n",
    "\n",
    "# What is the next biggest power of 2? It is 16.\n",
    "B = 4\n",
    "\n",
    "# Flip B coins.\n",
    "flips = np.random.binomial(1, 0.5, B)\n",
    "\n",
    "# Convert that to binary.\n",
    "number = 0\n",
    "for i in range(len(flips)):\n",
    "    number = number + flips[i] * 2**i\n",
    "\n",
    "# Print the flips and the decimal number.\n",
    "print(flips, number)"
   ]
  },
  {
   "cell_type": "code",
   "execution_count": 17,
   "id": "880af50e",
   "metadata": {},
   "outputs": [],
   "source": [
    "# Make a function to generate and convert coin flips to integer.\n",
    "def gen_number(B=4):\n",
    "    # Flip B coins.\n",
    "    flips = np.random.binomial(1, 0.5, B)\n",
    "    # Convert that to binary.\n",
    "    number = 0\n",
    "    for i in range(len(flips)):\n",
    "        number = number + flips[i] * 2**i\n",
    "    # Return the number.\n",
    "    return number"
   ]
  },
  {
   "cell_type": "code",
   "execution_count": 18,
   "id": "e419dbc0",
   "metadata": {},
   "outputs": [
    {
     "data": {
      "text/plain": [
       "15"
      ]
     },
     "execution_count": 18,
     "metadata": {},
     "output_type": "execute_result"
    }
   ],
   "source": [
    "# Test the function.\n",
    "gen_number()"
   ]
  },
  {
   "cell_type": "code",
   "execution_count": 19,
   "id": "6655c14b",
   "metadata": {},
   "outputs": [
    {
     "data": {
      "image/png": "[encoded data removed]",
      "text/plain": [
       "<Figure size 640x480 with 1 Axes>"
      ]
     },
     "metadata": {},
     "output_type": "display_data"
    }
   ],
   "source": [
    "# Run the function several times.\n",
    "\n",
    "# Number of outcomes.\n",
    "no_outcomes = 10000\n",
    "\n",
    "# Generate outcomes.\n",
    "outcomes = [gen_number() for i in range(no_outcomes)]\n",
    "\n",
    "# Plot the counts of outcomes..\n",
    "# Count the unique values in the returned list.\n",
    "vals, counts = np.unique(outcomes, return_counts=True)\n",
    "\n",
    "# Plot results in a histogram (technically a bar chart).\n",
    "plt.bar(vals, counts);"
   ]
  },
  {
   "cell_type": "markdown",
   "id": "b8f2e1f0",
   "metadata": {},
   "source": [
    "Possible outcomes in flipping four coins.  \n",
    "Use 0 for tails and 1 for heads.  \n",
    "0000, 0001, 0010, 0011, 0100, 0101, 0110, 0111, 1000, 1001, 1010, 1011, 1100, 1101, 1110, 1111  \n",
    "Each of these is equally likely.  \n",
    "Note we are not counting the number of heads here.  \n",
    "We are interested in the sequence of heads and tails.  \n",
    "What we did above is treat the above sequences of 0's and 1's as numbers written in binary.  \n",
    "Note, for convenience, the left most bit was the least significant.  "
   ]
  },
  {
   "cell_type": "code",
   "execution_count": 20,
   "id": "6854d99a",
   "metadata": {},
   "outputs": [
    {
     "data": {
      "image/png": "[encoded data removed]",
      "text/plain": [
       "<Figure size 640x480 with 1 Axes>"
      ]
     },
     "metadata": {},
     "output_type": "display_data"
    }
   ],
   "source": [
    "# Run the function several times.\n",
    "\n",
    "# Number of outcomes.\n",
    "no_outcomes = 10000\n",
    "\n",
    "# Generate outcomes.\n",
    "outcomes = []\n",
    "while len(outcomes) < no_outcomes:\n",
    "    next_number = gen_number()\n",
    "    if next_number <= 10:\n",
    "        outcomes.append(next_number)\n",
    "\n",
    "# Plot the counts of outcomes..\n",
    "# Count the unique values in the returned list.\n",
    "vals, counts = np.unique(outcomes, return_counts=True)\n",
    "\n",
    "# Plot results in a histogram (technically a bar chart).\n",
    "plt.bar(vals, counts);"
   ]
  },
  {
   "cell_type": "code",
   "execution_count": 21,
   "id": "5959667c",
   "metadata": {},
   "outputs": [
    {
     "data": {
      "image/png": "[encoded data removed]",
      "text/plain": [
       "<Figure size 640x480 with 1 Axes>"
      ]
     },
     "metadata": {},
     "output_type": "display_data"
    }
   ],
   "source": [
    "# Run the function several times.\n",
    "\n",
    "# Number of outcomes.\n",
    "no_outcomes = 10000\n",
    "\n",
    "# Generate outcomes.\n",
    "outcomes = []\n",
    "while len(outcomes) < no_outcomes:\n",
    "    next_number = gen_number()\n",
    "    if 1 <= next_number and next_number <= 10:\n",
    "        outcomes.append(next_number)\n",
    "\n",
    "# Plot the counts of outcomes..\n",
    "# Count the unique values in the returned list.\n",
    "vals, counts = np.unique(outcomes, return_counts=True)\n",
    "\n",
    "# Plot results in a histogram (technically a bar chart).\n",
    "plt.bar(vals, counts);"
   ]
  },
  {
   "cell_type": "markdown",
   "id": "ecf4af1d",
   "metadata": {},
   "source": [
    "### Random Distributions in numpy"
   ]
  },
  {
   "cell_type": "code",
   "execution_count": 22,
   "id": "ad741883",
   "metadata": {},
   "outputs": [],
   "source": [
    "# https://numpy.org/doc/stable/reference/random/index.html\n",
    "\n",
    "# Create a new instance of a random number generator.\n",
    "rng = np.random.default_rng()"
   ]
  },
  {
   "cell_type": "code",
   "execution_count": 23,
   "id": "f3c26697",
   "metadata": {},
   "outputs": [
    {
     "data": {
      "text/plain": [
       "array([ 0.25167261,  1.04519514, -0.90365875, -0.7711336 , -1.082801  ,\n",
       "       -1.33354734, -1.67112382,  1.78080172,  0.28921368,  0.99446456])"
      ]
     },
     "execution_count": 23,
     "metadata": {},
     "output_type": "execute_result"
    }
   ],
   "source": [
    "vals = rng.standard_normal(10)\n",
    "vals"
   ]
  },
  {
   "cell_type": "code",
   "execution_count": 24,
   "id": "473fc425",
   "metadata": {},
   "outputs": [
    {
     "data": {
      "text/plain": [
       "array([ 0.59042679,  0.51518561, -0.04191656,  1.33424937,  0.45942181,\n",
       "       -0.61510026, -0.54455553,  0.42637979, -0.27610038,  0.12156608])"
      ]
     },
     "execution_count": 24,
     "metadata": {},
     "output_type": "execute_result"
    }
   ],
   "source": [
    "more_vals = rng.standard_normal(10)\n",
    "more_vals"
   ]
  },
  {
   "cell_type": "code",
   "execution_count": 25,
   "id": "cb0d877c",
   "metadata": {},
   "outputs": [
    {
     "data": {
      "text/plain": [
       "array([-1.59129256, -0.62351266, -1.77283808, -0.97580251,  0.47948006,\n",
       "       -1.24941596,  0.35805599,  0.55932587, -0.63647197, -0.05605355])"
      ]
     },
     "execution_count": 25,
     "metadata": {},
     "output_type": "execute_result"
    }
   ],
   "source": [
    "np.random.standard_normal(10)"
   ]
  },
  {
   "cell_type": "code",
   "execution_count": 26,
   "id": "015df7b7",
   "metadata": {},
   "outputs": [],
   "source": [
    "rng = np.random.default_rng(0)"
   ]
  },
  {
   "cell_type": "code",
   "execution_count": 27,
   "id": "36f14fce",
   "metadata": {},
   "outputs": [
    {
     "data": {
      "text/plain": [
       "array([ 0.12573022, -0.13210486,  0.64042265,  0.10490012, -0.53566937,\n",
       "        0.36159505,  1.30400005,  0.94708096, -0.70373524, -1.26542147])"
      ]
     },
     "execution_count": 27,
     "metadata": {},
     "output_type": "execute_result"
    }
   ],
   "source": [
    "vals = rng.standard_normal(10)\n",
    "vals"
   ]
  },
  {
   "cell_type": "markdown",
   "id": "a4519878",
   "metadata": {},
   "source": [
    "### Standard Normal"
   ]
  },
  {
   "cell_type": "code",
   "execution_count": 28,
   "id": "9edb3fde",
   "metadata": {},
   "outputs": [],
   "source": [
    "# Create new, seeded random number generator.\n",
    "rng = np.random.default_rng(0)\n",
    "\n",
    "# Generate 1000 numbers on a standard normal distribution.\n",
    "samples = rng.standard_normal(10000)"
   ]
  },
  {
   "cell_type": "code",
   "execution_count": 29,
   "id": "53d40ad2",
   "metadata": {},
   "outputs": [
    {
     "data": {
      "text/plain": [
       "(array([  1.,   1.,   0.,   0.,   0.,   0.,   1.,   2.,   2.,   2.,   3.,\n",
       "          0.,   6.,   6.,  10.,   7.,   6.,  12.,  21.,   8.,  15.,  20.,\n",
       "         21.,  26.,  33.,  36.,  44.,  56.,  49.,  51.,  74.,  93.,  84.,\n",
       "         97., 103., 148., 144., 147., 182., 187., 189., 200., 233., 241.,\n",
       "        244., 266., 278., 233., 292., 316., 298., 296., 283., 249., 270.,\n",
       "        290., 273., 279., 254., 260., 265., 254., 225., 231., 204., 194.,\n",
       "        194., 179., 131., 153., 138., 112., 100.,  82.,  91.,  65.,  57.,\n",
       "         62.,  52.,  53.,  30.,  30.,  26.,  25.,  24.,  21.,  12.,  10.,\n",
       "          8.,  10.,   1.,   7.,   0.,   4.,   3.,   3.,   1.,   0.,   0.,\n",
       "          1.]),\n",
       " array([-3.89942173, -3.82560914, -3.75179655, -3.67798396, -3.60417137,\n",
       "        -3.53035878, -3.45654619, -3.3827336 , -3.30892101, -3.23510842,\n",
       "        -3.16129583, -3.08748324, -3.01367065, -2.93985806, -2.86604547,\n",
       "        -2.79223288, -2.7184203 , -2.64460771, -2.57079512, -2.49698253,\n",
       "        -2.42316994, -2.34935735, -2.27554476, -2.20173217, -2.12791958,\n",
       "        -2.05410699, -1.9802944 , -1.90648181, -1.83266922, -1.75885663,\n",
       "        -1.68504404, -1.61123145, -1.53741886, -1.46360627, -1.38979368,\n",
       "        -1.31598109, -1.2421685 , -1.16835591, -1.09454332, -1.02073073,\n",
       "        -0.94691814, -0.87310555, -0.79929296, -0.72548037, -0.65166778,\n",
       "        -0.57785519, -0.5040426 , -0.43023002, -0.35641743, -0.28260484,\n",
       "        -0.20879225, -0.13497966, -0.06116707,  0.01264552,  0.08645811,\n",
       "         0.1602707 ,  0.23408329,  0.30789588,  0.38170847,  0.45552106,\n",
       "         0.52933365,  0.60314624,  0.67695883,  0.75077142,  0.82458401,\n",
       "         0.8983966 ,  0.97220919,  1.04602178,  1.11983437,  1.19364696,\n",
       "         1.26745955,  1.34127214,  1.41508473,  1.48889732,  1.56270991,\n",
       "         1.6365225 ,  1.71033509,  1.78414768,  1.85796026,  1.93177285,\n",
       "         2.00558544,  2.07939803,  2.15321062,  2.22702321,  2.3008358 ,\n",
       "         2.37464839,  2.44846098,  2.52227357,  2.59608616,  2.66989875,\n",
       "         2.74371134,  2.81752393,  2.89133652,  2.96514911,  3.0389617 ,\n",
       "         3.11277429,  3.18658688,  3.26039947,  3.33421206,  3.40802465,\n",
       "         3.48183724]),\n",
       " <BarContainer object of 100 artists>)"
      ]
     },
     "execution_count": 29,
     "metadata": {},
     "output_type": "execute_result"
    },
    {
     "data": {
      "image/png": "[encoded data removed]",
      "text/plain": [
       "<Figure size 640x480 with 1 Axes>"
      ]
     },
     "metadata": {},
     "output_type": "display_data"
    }
   ],
   "source": [
    "# Create a figure.\n",
    "fig, ax = plt.subplots()\n",
    "\n",
    "# Create histogram.\n",
    "ax.hist(samples, bins=100)"
   ]
  },
  {
   "cell_type": "markdown",
   "id": "85bb0d9a",
   "metadata": {},
   "source": [
    "_____\n",
    "#### Exercise 1\n",
    "\n",
    "_It is somewhat interesting that (5 * 4 * 3 * 2 * 1) perfectly divides (10 * 9 * 8 * 7 * 6) - there's no remainder.\n",
    "If we only wanted exactly four heads as opposed to five, the equivalent calculation would be (10 * 9 * 8 * 7) / (4 * 3 * 2 * 1).\n",
    "Does that evenly divide too? What is the formula in general?\n",
    "Does it always come out as a positive whole number?_"
   ]
  },
  {
   "cell_type": "markdown",
   "id": "939c2466",
   "metadata": {},
   "source": [
    "In this case we are using formula for the **binomial coefficient**:  \n",
    "    \n",
    "**${n\\choose k}=\\frac{n!}{k!(n-k)!}$**  \n",
    "\n",
    "It refers to a number of possible ways or combinations to choose wanted number of cases k from the total n or **n choose k**.  \n",
    "In our example we are choosing four heads (k) out of 10 coin flips (n).  \n",
    "\n",
    "Using the above formula with factorials we get:  \n",
    "    \n",
    "${10\\choose 4}=\\frac{10!}{4!(10-4)!}=\\frac{10!}{4!6!}=\\frac{10 * 9 * 8 * 7 * 6!}{4!6!}=\\frac{10 * 9 * 8 * 7}{4 * 3 * 2 * 1}=\\frac{5040}{24}$ = 210  \n",
    "\n",
    "That means there are 210 possible ways to choose 4 heads out of 10 coin flips.  \n",
    "\n",
    "We are refering only to the possible number of outcomes of getting four heads, not their order which is implied in the definition of binomial coefficient or the **combination**.  \n",
    "Otherwise, we would be using **permutation** to find out the order of the possible outcomes.  "
   ]
  },
  {
   "cell_type": "markdown",
   "id": "b7a8fbd8",
   "metadata": {},
   "source": [
    "#### Exercise 2\n",
    "_Note that there are the same number of ways to get 4 tails as there to get 4 heads. Explain why this is._  "
   ]
  },
  {
   "cell_type": "markdown",
   "id": "960fc108",
   "metadata": {},
   "source": [
    "Since we are calculating how many ways or combinations there are to get 4 heads or 4 tails, it's not important how we call them,\n",
    "doesn't matter if it's heads or tails, the equation is giving us four out of ten cycles either way."
   ]
  },
  {
   "cell_type": "code",
   "execution_count": 30,
   "id": "ff831cd8",
   "metadata": {},
   "outputs": [
    {
     "data": {
      "text/plain": [
       "210"
      ]
     },
     "execution_count": 30,
     "metadata": {},
     "output_type": "execute_result"
    }
   ],
   "source": [
    "# We can show it with the math.comb method\n",
    "import math\n",
    "# anyfour = math.comb(n, k)\n",
    "anyfour = math.comb(10, 4)\n",
    "anyfour"
   ]
  },
  {
   "cell_type": "code",
   "execution_count": 31,
   "id": "d722c6c0",
   "metadata": {},
   "outputs": [
    {
     "data": {
      "text/plain": [
       "210"
      ]
     },
     "execution_count": 31,
     "metadata": {},
     "output_type": "execute_result"
    }
   ],
   "source": [
    "# Or by importing scipy.special function\n",
    "import scipy.special\n",
    "# exact = True to get the integer\n",
    "anyfour = scipy.special.comb(10, 4, exact = True)\n",
    "anyfour"
   ]
  },
  {
   "cell_type": "markdown",
   "id": "c14681ed",
   "metadata": {},
   "source": [
    "#### Exercise 3\n",
    "_Plot bar charts or histograms of any three different distributions listed at the following link:_  \n",
    " https://numpy.org/doc/stable/reference/random/generator.html#distributions     "
   ]
  },
  {
   "cell_type": "code",
   "execution_count": 32,
   "id": "a5547798",
   "metadata": {},
   "outputs": [],
   "source": [
    "# Plotting the distributions with random generator\n",
    "# We need matplotlib and numpy libraries\n",
    "import matplotlib.pyplot as plt\n",
    "import numpy as np"
   ]
  },
  {
   "cell_type": "markdown",
   "id": "a9f3492b",
   "metadata": {},
   "source": [
    "**3.1. Poisson Distribution**"
   ]
  },
  {
   "cell_type": "markdown",
   "id": "0fbd3db8",
   "metadata": {},
   "source": [
    "Poisson distribution is a discrete distribution and represents the probability of a given number of events occurring in a fixed interval of time or space. [[1]](https://en.wikipedia.org/wiki/Poisson_distribution).\n",
    "The events in the Poisson distribution are independent. Rate parameter (λ) is the mean or average number of events in a specified interval.\n",
    "\n",
    "np.random.poisson(lam=1.0, size=None)\n",
    "\n",
    "Has two parameters:  \n",
    "lam (λ) is expected number of events in a fixed time interval, cannot be negative     \n",
    "size is the shape or size of the sample\n",
    "\n",
    "Based on the average rate of occurrence of an event, predicts the amount of variation in a given interval. [[2]](https://www.pythonpool.com/numpy-random-poisson/)"
   ]
  },
  {
   "cell_type": "code",
   "execution_count": 33,
   "id": "a5947fa3",
   "metadata": {},
   "outputs": [],
   "source": [
    "# Random number generator to draw samples from Poisson distribution\n",
    "rng = np.random.default_rng()\n",
    "# s is the samples that we are taking from the distribution\n",
    "# 20 is lambda or the mean and 1000 is the size\n",
    "s = rng.poisson(20, 1000)"
   ]
  },
  {
   "cell_type": "code",
   "execution_count": 34,
   "id": "3a56e70d",
   "metadata": {},
   "outputs": [
    {
     "data": {
      "text/plain": [
       "(array([  7.,  52., 171., 232., 233., 176.,  92.,  30.,   6.,   1.]),\n",
       " array([ 8., 11., 14., 17., 20., 23., 26., 29., 32., 35., 38.]),\n",
       " <BarContainer object of 10 artists>)"
      ]
     },
     "execution_count": 34,
     "metadata": {},
     "output_type": "execute_result"
    },
    {
     "data": {
      "image/png": "[encoded data removed]",
      "text/plain": [
       "<Figure size 640x480 with 1 Axes>"
      ]
     },
     "metadata": {},
     "output_type": "display_data"
    }
   ],
   "source": [
    "plt.hist(s, color='#3b528b')"
   ]
  },
  {
   "cell_type": "markdown",
   "id": "2f92d153",
   "metadata": {},
   "source": [
    "**3.2. Chi-Square Distribution**"
   ]
  },
  {
   "cell_type": "markdown",
   "id": "cdc0a26c",
   "metadata": {},
   "source": [
    "Chi-square distribution is a distribution of a sum of the squares of k number of independent standard normal variables with k degrees of freedom. [[3]](https://en.wikipedia.org/wiki/Chi-squared_distribution)  \n",
    "k represents degrees of freedom or mean of a chi-square distribution. \n",
    "It is a continuous distribution same as the standard normal distribution.\n",
    "\n",
    "If we set degrees of freedom higher the chi-square distribution will resemble more to a normal distribution which is showed in the _Example b_.\n",
    "\n",
    "To get randomly generated samples from a Chi-Square distribution we use: [[4]](https://numpy.org/doc/stable/reference/random/generated/numpy.random.Generator.chisquare.html#numpy.random.Generator.chisquare)\n",
    "\n",
    "random.Generator.chisquare(df, size=None)\n",
    "\n",
    "Parameters:  \n",
    "df - degrees of freedom, has to be >0  \n",
    "size - of the sample                                                                         "
   ]
  },
  {
   "cell_type": "code",
   "execution_count": 35,
   "id": "6413a848",
   "metadata": {},
   "outputs": [],
   "source": [
    "rng = np.random.default_rng()"
   ]
  },
  {
   "cell_type": "code",
   "execution_count": 39,
   "id": "11681240",
   "metadata": {},
   "outputs": [
    {
     "data": {
      "text/plain": [
       "(array([222., 270., 217., 133.,  73.,  42.,  19.,  13.,   5.,   6.]),\n",
       " array([ 0.06469799,  1.69814805,  3.3315981 ,  4.96504816,  6.59849821,\n",
       "         8.23194827,  9.86539832, 11.49884838, 13.13229843, 14.76574849,\n",
       "        16.39919854]),\n",
       " <BarContainer object of 10 artists>)"
      ]
     },
     "execution_count": 39,
     "metadata": {},
     "output_type": "execute_result"
    },
    {
     "data": {
      "image/png": "[encoded data removed]",
      "text/plain": [
       "<Figure size 640x480 with 1 Axes>"
      ]
     },
     "metadata": {},
     "output_type": "display_data"
    }
   ],
   "source": [
    "#Example a\n",
    "samples = rng.chisquare(4, 1000)\n",
    "\n",
    "plt.hist(samples, color='#440154')"
   ]
  },
  {
   "cell_type": "code",
   "execution_count": 40,
   "id": "aa123c45",
   "metadata": {},
   "outputs": [
    {
     "data": {
      "text/plain": [
       "(array([ 12.,  46., 134., 216., 248., 173.,  99.,  51.,  15.,   6.]),\n",
       " array([ 62.04240028,  70.62734781,  79.21229535,  87.79724288,\n",
       "         96.38219042, 104.96713795, 113.55208548, 122.13703302,\n",
       "        130.72198055, 139.30692809, 147.89187562]),\n",
       " <BarContainer object of 10 artists>)"
      ]
     },
     "execution_count": 40,
     "metadata": {},
     "output_type": "execute_result"
    },
    {
     "data": {
      "image/png": "[encoded data removed]",
      "text/plain": [
       "<Figure size 640x480 with 1 Axes>"
      ]
     },
     "metadata": {},
     "output_type": "display_data"
    }
   ],
   "source": [
    "#Example b\n",
    "samples1 = rng.chisquare(100, 1000)\n",
    "\n",
    "plt.hist(samples1, color='#21918c')"
   ]
  },
  {
   "cell_type": "code",
   "execution_count": null,
   "id": "aa688579",
   "metadata": {},
   "outputs": [],
   "source": []
  },
  {
   "cell_type": "code",
   "execution_count": null,
   "id": "9d805e5a",
   "metadata": {},
   "outputs": [],
   "source": []
  },
  {
   "cell_type": "code",
   "execution_count": null,
   "id": "4b4b32e7",
   "metadata": {},
   "outputs": [],
   "source": []
  },
  {
   "cell_type": "code",
   "execution_count": null,
   "id": "63aa697e",
   "metadata": {},
   "outputs": [],
   "source": []
  },
  {
   "cell_type": "markdown",
   "id": "07349aa2",
   "metadata": {},
   "source": [
    "#### References:\n",
    " * GeeksforGeeks (2020). Python - math.comb() method, Retrieved December 5, 2022 from https://www.geeksforgeeks.org/python-math-comb-method/  \n",
    " * Mathematical Explorations (2020). Binomial Coefficients in LaTeX [Video file]. YouTube. https://www.youtube.com/watch?v=6Zf5spwf4xc  \n",
    " * Mcloughlin, I., (2022). GitHub repository, https://github.com/ianmcloughlin/2223-S1-fund-data-analysis/blob/main/notebooks/02-randomness.ipynb   \n",
    " * SciPy documentation (2022). scipy.special.comb, Version 1.9.3., Retrieved December 5, 2022 from https://docs.scipy.org/doc/scipy/reference/generated/scipy.special.comb.html?highlight=comb    \n",
    " * Weisstein, E.W., (n.d.). Binomial Coefficient, Retrieved December 5, 2022 from https://mathworld.wolfram.com/BinomialCoefficient.html  \n",
    " * NumPy documentation (2022). numpy.random.poisson, Version 1.23, Retrieved December 5, 2022 from https://numpy.org/doc/stable/reference/random/generated/numpy.random.poisson.html  \n",
    " * NumPy documentation (2022). numpy.random.Generator.chisquare, Version 1.23, Retrieved December 6, 2022 from https://numpy.org/doc/stable/reference/random/generated/numpy.random.Generator.chisquare.html#numpy.random.Generator.chisquare  \n",
    " * Python Pool (2021, June 15). Diving into Python’s Numpy Random Poisson. Retreived December 5, 2022 from https://www.pythonpool.com/numpy-random-poisson/    \n",
    " * Wikipedia contributors (2022, November 17). Poisson distribution. In Wikipedia, The Free Encyclopedia. Retrieved December 5, 2022 from https://en.wikipedia.org/w/index.php?title=Poisson_distribution&oldid=1122449882  \n",
    " * Wikipedia contributors. (2022, November 17). Chi-squared distribution. In Wikipedia, The Free Encyclopedia. Retrieved December 6, 2022, from https://en.wikipedia.org/w/index.php?title=Chi-squared_distribution&oldid=1122473820  "
   ]
  },
  {
   "cell_type": "code",
   "execution_count": null,
   "id": "95658939",
   "metadata": {},
   "outputs": [],
   "source": []
  }
 ],
 "metadata": {
  "kernelspec": {
   "display_name": "Python 3 (ipykernel)",
   "language": "python",
   "name": "python3"
  },
  "language_info": {
   "codemirror_mode": {
    "name": "ipython",
    "version": 3
   },
   "file_extension": ".py",
   "mimetype": "text/x-python",
   "name": "python",
   "nbconvert_exporter": "python",
   "pygments_lexer": "ipython3",
   "version": "3.9.13"
  },
  "toc": {
   "base_numbering": 1,
   "nav_menu": {},
   "number_sections": false,
   "sideBar": true,
   "skip_h1_title": false,
   "title_cell": "Table of Contents",
   "title_sidebar": "Contents",
   "toc_cell": false,
   "toc_position": {},
   "toc_section_display": true,
   "toc_window_display": false
  }
 },
 "nbformat": 4,
 "nbformat_minor": 5
}
